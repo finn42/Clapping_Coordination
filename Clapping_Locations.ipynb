{
 "cells": [
  {
   "cell_type": "markdown",
   "id": "b130bd7e",
   "metadata": {},
   "source": [
    "# Look at changes in clapping rates by location"
   ]
  },
  {
   "cell_type": "markdown",
   "id": "cba6ef72",
   "metadata": {},
   "source": [
    "This notebook visualises the median clapping rate for members of an audience. Hypothesis: people who are near each other converge in clapping rate faster than those who are not. "
   ]
  },
  {
   "cell_type": "code",
   "execution_count": 1,
   "id": "94308240",
   "metadata": {
    "scrolled": true
   },
   "outputs": [],
   "source": [
    "import sys\n",
    "import os\n",
    "import time\n",
    "import datetime as dt\n",
    "import math\n",
    "import numpy as np \n",
    "import scipy as sp\n",
    "import pandas as pd\n",
    "import matplotlib.pyplot as plt\n",
    "from matplotlib import colors\n",
    "import seaborn as sns\n",
    "import pingouin as pg\n",
    "from scipy.spatial.distance import pdist, squareform\n",
    "from scipy.signal import butter,filtfilt\n",
    "from scipy import interpolate\n",
    "from scipy.interpolate import interp1d\n",
    "import imageio\n"
   ]
  },
  {
   "cell_type": "code",
   "execution_count": 2,
   "id": "0f10c03d",
   "metadata": {
    "scrolled": true
   },
   "outputs": [],
   "source": [
    "# import activity analysis functions from aa.py file in the same folder as this jupiter notebook\n",
    "%load_ext autoreload\n",
    "%autoreload 1\n",
    "%aimport aa"
   ]
  },
  {
   "cell_type": "code",
   "execution_count": 3,
   "id": "385748e8",
   "metadata": {
    "scrolled": true
   },
   "outputs": [],
   "source": [
    "%reload_ext autoreload"
   ]
  },
  {
   "cell_type": "code",
   "execution_count": 4,
   "id": "630dc36c",
   "metadata": {
    "scrolled": true
   },
   "outputs": [],
   "source": [
    "# Now to map those values to locations, need to import some details.\n",
    "# these are old ID codes, need to replace. \n",
    "general_loc = 'C:/Users/finnu/OneDrive - Universitetet i Oslo/Documents/Mobile_data/'\n",
    "\n",
    "internal_mlmotion = general_loc + 'Internal/Motion_ML/'\n",
    "internal_ax3 = general_loc +  'Internal/Motion_AX3/'\n",
    "internal_Part = general_loc + 'Internal/Participants/'\n",
    "internal_time = general_loc + 'Internal/Timing/'\n",
    "\n",
    "public_mlmotion = general_loc + 'Public/Motion_ML/'\n",
    "public_ax3 = general_loc +  'Public/Motion_AX3/'\n",
    "public_Part = general_loc + 'Public/Participants/'\n",
    "public_time = general_loc + 'Public/Timing/'"
   ]
  },
  {
   "cell_type": "code",
   "execution_count": 5,
   "id": "613b5e3d",
   "metadata": {
    "scrolled": false
   },
   "outputs": [],
   "source": [
    "partDets = pd.read_csv(internal_Part + 'Audience_Mapping_Internal.csv')#,index_col = 0,header_col = 0)\n",
    "# need only in person participants so cut to those in attendence with seats assinged\n",
    "partDets = partDets.loc[~partDets['X'].isna(),:]\n",
    "MovingParts = partDets.loc[partDets['Motion_Quality'].isin(['Q','R']),:].reset_index(drop = True) # with aligned motion measurements\n",
    "\n",
    "Part_Codes = list(MovingParts.Participant_Code.values)\n"
   ]
  },
  {
   "cell_type": "code",
   "execution_count": 6,
   "id": "0b0fcb20",
   "metadata": {},
   "outputs": [
    {
     "data": {
      "text/html": [
       "<div>\n",
       "<style scoped>\n",
       "    .dataframe tbody tr th:only-of-type {\n",
       "        vertical-align: middle;\n",
       "    }\n",
       "\n",
       "    .dataframe tbody tr th {\n",
       "        vertical-align: top;\n",
       "    }\n",
       "\n",
       "    .dataframe thead th {\n",
       "        text-align: right;\n",
       "    }\n",
       "</style>\n",
       "<table border=\"1\" class=\"dataframe\">\n",
       "  <thead>\n",
       "    <tr style=\"text-align: right;\">\n",
       "      <th></th>\n",
       "      <th>Participant_Code_1</th>\n",
       "      <th>Participant_Code_2</th>\n",
       "      <th>Distance</th>\n",
       "      <th>Familiarity</th>\n",
       "      <th>Relationship</th>\n",
       "    </tr>\n",
       "  </thead>\n",
       "  <tbody>\n",
       "    <tr>\n",
       "      <th>0</th>\n",
       "      <td>ADQ001</td>\n",
       "      <td>ADQ006</td>\n",
       "      <td>3.0</td>\n",
       "      <td>0</td>\n",
       "      <td>Stranger</td>\n",
       "    </tr>\n",
       "    <tr>\n",
       "      <th>1</th>\n",
       "      <td>ADQ001</td>\n",
       "      <td>ADQ021</td>\n",
       "      <td>3.0</td>\n",
       "      <td>0</td>\n",
       "      <td>Stranger</td>\n",
       "    </tr>\n",
       "    <tr>\n",
       "      <th>2</th>\n",
       "      <td>ADQ001</td>\n",
       "      <td>ADQ023</td>\n",
       "      <td>-2.0</td>\n",
       "      <td>0</td>\n",
       "      <td>Stranger</td>\n",
       "    </tr>\n",
       "    <tr>\n",
       "      <th>3</th>\n",
       "      <td>ADQ001</td>\n",
       "      <td>ADQ024</td>\n",
       "      <td>2.0</td>\n",
       "      <td>0</td>\n",
       "      <td>Stranger</td>\n",
       "    </tr>\n",
       "    <tr>\n",
       "      <th>4</th>\n",
       "      <td>ADQ001</td>\n",
       "      <td>ADQ031</td>\n",
       "      <td>-2.0</td>\n",
       "      <td>0</td>\n",
       "      <td>Stranger</td>\n",
       "    </tr>\n",
       "    <tr>\n",
       "      <th>...</th>\n",
       "      <td>...</td>\n",
       "      <td>...</td>\n",
       "      <td>...</td>\n",
       "      <td>...</td>\n",
       "      <td>...</td>\n",
       "    </tr>\n",
       "    <tr>\n",
       "      <th>565</th>\n",
       "      <td>AEQ082</td>\n",
       "      <td>AEQ083</td>\n",
       "      <td>3.0</td>\n",
       "      <td>0</td>\n",
       "      <td>Stranger</td>\n",
       "    </tr>\n",
       "    <tr>\n",
       "      <th>566</th>\n",
       "      <td>AEQ082</td>\n",
       "      <td>AEQ087</td>\n",
       "      <td>3.0</td>\n",
       "      <td>0</td>\n",
       "      <td>Stranger</td>\n",
       "    </tr>\n",
       "    <tr>\n",
       "      <th>567</th>\n",
       "      <td>AEQ083</td>\n",
       "      <td>AEQ089</td>\n",
       "      <td>3.0</td>\n",
       "      <td>1</td>\n",
       "      <td>Family_ParentChild</td>\n",
       "    </tr>\n",
       "    <tr>\n",
       "      <th>568</th>\n",
       "      <td>AEQ084</td>\n",
       "      <td>AER090</td>\n",
       "      <td>3.0</td>\n",
       "      <td>1</td>\n",
       "      <td>Family_ParentChild</td>\n",
       "    </tr>\n",
       "    <tr>\n",
       "      <th>569</th>\n",
       "      <td>AEQ087</td>\n",
       "      <td>AER090</td>\n",
       "      <td>3.0</td>\n",
       "      <td>0</td>\n",
       "      <td>Stranger</td>\n",
       "    </tr>\n",
       "  </tbody>\n",
       "</table>\n",
       "<p>570 rows × 5 columns</p>\n",
       "</div>"
      ],
      "text/plain": [
       "    Participant_Code_1 Participant_Code_2  Distance  Familiarity  \\\n",
       "0               ADQ001             ADQ006       3.0            0   \n",
       "1               ADQ001             ADQ021       3.0            0   \n",
       "2               ADQ001             ADQ023      -2.0            0   \n",
       "3               ADQ001             ADQ024       2.0            0   \n",
       "4               ADQ001             ADQ031      -2.0            0   \n",
       "..                 ...                ...       ...          ...   \n",
       "565             AEQ082             AEQ083       3.0            0   \n",
       "566             AEQ082             AEQ087       3.0            0   \n",
       "567             AEQ083             AEQ089       3.0            1   \n",
       "568             AEQ084             AER090       3.0            1   \n",
       "569             AEQ087             AER090       3.0            0   \n",
       "\n",
       "           Relationship  \n",
       "0              Stranger  \n",
       "1              Stranger  \n",
       "2              Stranger  \n",
       "3              Stranger  \n",
       "4              Stranger  \n",
       "..                  ...  \n",
       "565            Stranger  \n",
       "566            Stranger  \n",
       "567  Family_ParentChild  \n",
       "568  Family_ParentChild  \n",
       "569            Stranger  \n",
       "\n",
       "[570 rows x 5 columns]"
      ]
     },
     "execution_count": 6,
     "metadata": {},
     "output_type": "execute_result"
    }
   ],
   "source": [
    "Near_Rels = pd.read_csv(public_Part + 'Near_Participants_Hall.csv')\n",
    "\n",
    "# reduce to list of relationships included in the dataset available here\n",
    "Sub_Rels = Near_Rels.loc[Near_Rels['Participant_Code_1'].isin(Part_Codes),:]\n",
    "Sub_Rels = Sub_Rels.loc[Sub_Rels['Participant_Code_2'].isin(Part_Codes),:].reset_index(drop = True)\n",
    "Sub_Rels"
   ]
  },
  {
   "cell_type": "markdown",
   "id": "d8e81076",
   "metadata": {},
   "source": [
    "## Load a clapping section\n",
    "individual claps "
   ]
  },
  {
   "cell_type": "code",
   "execution_count": 7,
   "id": "d7f5e2eb",
   "metadata": {
    "scrolled": true
   },
   "outputs": [
    {
     "data": {
      "text/plain": [
       "'clapping_after_introduction_peaks.csv'"
      ]
     },
     "execution_count": 7,
     "metadata": {},
     "output_type": "execute_result"
    }
   ],
   "source": [
    "claps_folder = 'C:/Users/finnu/dev/copenhagen-musiclab-clapping/clapfiles/clapping_peaks/'\n",
    "Clap_files = os.listdir(claps_folder)\n",
    "clapname = Clap_files[2]\n",
    "# 6 finale, 14 schnittke, 1 beethoven, 0 bach\n",
    "clapname"
   ]
  },
  {
   "cell_type": "code",
   "execution_count": 8,
   "id": "d4677dfb",
   "metadata": {},
   "outputs": [
    {
     "data": {
      "text/plain": [
       "['bach_applause_peaks.csv',\n",
       " 'beethoven_applause_peaks.csv',\n",
       " 'clapping_after_introduction_peaks.csv',\n",
       " 'clapping_between_speeches_1_peaks.csv',\n",
       " 'clapping_between_speeches_2_peaks.csv',\n",
       " 'concert_begins_peaks.csv',\n",
       " 'final_applause_peaks.csv',\n",
       " 'folk_music_1_applause_peaks.csv',\n",
       " 'folk_music_2_applause_peaks.csv',\n",
       " 'folk_music_3_applause_peaks.csv',\n",
       " 'folk_music_4_applause_peaks.csv',\n",
       " 'folk_music_5_applause_peaks.csv',\n",
       " 'musicians_return_1_peaks.csv',\n",
       " 'musicians_return_2_peaks.csv',\n",
       " 'schnittke_applause_peaks.csv',\n",
       " 'Schnittke_Stage_events.csv']"
      ]
     },
     "execution_count": 8,
     "metadata": {},
     "output_type": "execute_result"
    }
   ],
   "source": [
    "Clap_files"
   ]
  },
  {
   "cell_type": "code",
   "execution_count": 177,
   "id": "9b215434",
   "metadata": {
    "scrolled": false
   },
   "outputs": [
    {
     "data": {
      "image/png": "[encoded data removed]",
      "text/plain": [
       "<Figure size 287.28x216 with 1 Axes>"
      ]
     },
     "metadata": {
      "needs_background": "light"
     },
     "output_type": "display_data"
    },
    {
     "data": {
      "image/png": "[encoded data removed]",
      "text/plain": [
       "<Figure size 432x288 with 1 Axes>"
      ]
     },
     "metadata": {
      "needs_background": "light"
     },
     "output_type": "display_data"
    },
    {
     "name": "stdout",
     "output_type": "stream",
     "text": [
      "[85, 0.25882352941176473]\n"
     ]
    }
   ],
   "source": [
    "# read file\n",
    "peaks = pd.read_csv(claps_folder + clapname,index_col=0)\n",
    "exp_name = clapname[:-10]\n",
    "peaks = peaks.fillna(0)\n",
    "ts = pd.Series(np.arange(0,len(peaks))*0.02)\n",
    "t_end = ts.iloc[-1]\n",
    "\n",
    "df_claps = pd.DataFrame(index = ts,data = peaks.values,columns = peaks.columns)\n",
    "df_claps.plot(figsize = [2+t_end/10,3],legend = False)\n",
    "plt.show()\n",
    "df_OnlyClaps = df_claps.astype(bool).astype(int)\n",
    "df_OnlyClaps.sum().hist(bins = 40)\n",
    "plt.title('Number of claps per participant in ' + exp_name)\n",
    "plt.show()\n",
    "\n",
    "a = df_OnlyClaps.sum().index\n",
    "df_claps = df_claps.loc[:,a[df_OnlyClaps.sum()>20]]\n",
    "print([len(a),len(a[df_OnlyClaps.sum()>20])/len(a)])\n",
    "df_claps = df_claps.loc[:,a[df_OnlyClaps.sum()>20]]\n",
    "#df_claps.columns = range(df_claps.columns.size)\n",
    "df_OnlyClaps = df_claps.astype(bool).astype(int)\n",
    "# Evaluate length or recording "
   ]
  },
  {
   "cell_type": "code",
   "execution_count": 159,
   "id": "13ffe605",
   "metadata": {},
   "outputs": [],
   "source": [
    "# note these time are approximate to around the second, aligned roughly to final clapping excerpt times \n",
    "# Should be confirmed with better video interface than youtube\n",
    "musician_times = pd.read_csv('./Data/Final_clapping_section_accelerometer/Final_Stage_events.csv',sep=\",\") #SV alignment for beeps\n",
    "#musician_times"
   ]
  },
  {
   "cell_type": "code",
   "execution_count": 167,
   "id": "c4a47a3c",
   "metadata": {
    "scrolled": true
   },
   "outputs": [
    {
     "data": {
      "image/png": "[encoded data removed]",
      "text/plain": [
       "<Figure size 338.832x288 with 1 Axes>"
      ]
     },
     "metadata": {
      "needs_background": "light"
     },
     "output_type": "display_data"
    }
   ],
   "source": [
    "if t_end>15:\n",
    "    # evaluate clapp statistics\n",
    "    t_interval = 1.5\n",
    "    sampletimes = np.arange(0+t_interval,t_end-t_interval,0.2)\n",
    "    Clap_Feats = pd.DataFrame(index = sampletimes,columns = df_OnlyClaps.columns)\n",
    "    Clap_Feats = pd.DataFrame(index = sampletimes,columns = df_OnlyClaps.columns)\n",
    "\n",
    "    for samp in range(len(sampletimes)):\n",
    "        t_0 = sampletimes[samp]\n",
    "        sub_claps = df_OnlyClaps.loc[t_0-t_interval:t_0+t_interval,:] # Excerpt of claps\n",
    "        clap_stats = []\n",
    "        cols = sub_claps.columns\n",
    "        these_claps = pd.Series(index = df_OnlyClaps.columns,dtype='float64')\n",
    "        for partn in cols:\n",
    "            ici = pd.Series(sub_claps.loc[sub_claps.loc[:,partn]>0].index).diff()\n",
    "            if ici.notna().sum()>0:\n",
    "                these_claps[partn]=np.nanmedian(ici)\n",
    "        Clap_Feats.loc[t_0] = these_claps\n",
    "    # plot statistics\n",
    "    df_A = Clap_Feats.copy()\n",
    "    df_feats = pd.DataFrame(index = df_A.index,columns= ['Median','Midrange','NotNa_C','NotNa_p'])\n",
    "    df_spans = pd.DataFrame(index = df_A.index,columns = ['Upper','Lower'])\n",
    "    t_interval = 3\n",
    "    cntiles = np.array([0,0.1,0.2,0.3,0.4])\n",
    "    for i, row in df_A.iterrows():\n",
    "        sub_row = row[row.notna()]\n",
    "        if len(sub_row)>0:\n",
    "            these_stats = {'Median':np.median(sub_row),'LowerQ':sub_row.quantile(q=0.25,interpolation='nearest'),'UpperQ':sub_row.quantile(q=0.75,interpolation='nearest'),\n",
    "                           'Midrange':np.round(sub_row.quantile(q=0.75,interpolation='nearest')-sub_row.quantile(q=0.25,interpolation='nearest'),5),'NotNa_C':len(sub_row),'NotNa_p':len(sub_row)/len(row)}\n",
    "            df_feats.loc[i,:] = these_stats\n",
    "    df_feats = df_feats.dropna()\n",
    "\n",
    "    fig,ax = plt.subplots(1,1,figsize=[2+t_end/10,4])\n",
    "    df_A.plot(linewidth=1,color='grey',alpha=0.3,legend=False,ax = ax)\n",
    "    #ax.line(df_A.index,df_A)\n",
    "    df_feats.plot(y='Median',color=\"black\", ax=ax)\n",
    "\n",
    "    for pc in cntiles:\n",
    "        for i, row in df_A.iterrows():\n",
    "            sub_row = row[row.notna()]\n",
    "            if len(sub_row)>0:\n",
    "                these_stats = {'Lower':sub_row.quantile(q=pc,interpolation='nearest'),'Upper':sub_row.quantile(q=1-pc,interpolation='nearest')}\n",
    "                df_spans.loc[i,:] = these_stats\n",
    "        df_spans = df_spans.dropna()\n",
    "\n",
    "        x = np.array(df_spans.index)\n",
    "        y1 = np.array(df_spans.Lower,dtype=np.float32)\n",
    "        y2 = np.array(df_spans.Upper,dtype=np.float32)\n",
    "        ax.fill_between(x,y1,y2,alpha = 0.8)\n",
    "\n",
    "    plt.ylim([0.1,0.9])\n",
    "    plt.xlim([0,t_end])\n",
    "    plt.xticks(musician_times.TIME,musician_times.LABEL, rotation='vertical')\n",
    "\n",
    "    plt.grid()\n",
    "    plt.xlabel('Time (s)')\n",
    "    plt.ylabel('Inter-clap interval (s)')\n",
    "    plt.title(clapname +' Median (3 s) ICI percentiles')\n",
    "    plt.savefig(clapname+'_Applause_Local_ICI_medians_CentileTS_ME.png',dpi=400)\n",
    "    plt.show()"
   ]
  },
  {
   "cell_type": "raw",
   "id": "a88c2681",
   "metadata": {},
   "source": [
    "# since the participant codes pedate the new codes with current locations, need to use old map to connect the details\n",
    "old_C = Clap_Feats.columns\n",
    "new_C = []\n",
    "for part in old_C:\n",
    "    new_C.append(partDets.loc[partDets['MusicLab_DevID']==part,'Participant_Code'].values[0])\n",
    "Clap_Feats.columns = new_C\n",
    "\n",
    "ClapDets=partDets.loc[partDets['Participant_Code'].isin(new_C),:]\n",
    "Clap_Feats = Clap_Feats[ClapDets['Participant_Code']]\n",
    "Clap_Feats.fillna(0,inplace = True)"
   ]
  },
  {
   "cell_type": "code",
   "execution_count": 168,
   "id": "86ed1ad9",
   "metadata": {},
   "outputs": [
    {
     "data": {
      "text/html": [
       "<div>\n",
       "<style scoped>\n",
       "    .dataframe tbody tr th:only-of-type {\n",
       "        vertical-align: middle;\n",
       "    }\n",
       "\n",
       "    .dataframe tbody tr th {\n",
       "        vertical-align: top;\n",
       "    }\n",
       "\n",
       "    .dataframe thead th {\n",
       "        text-align: right;\n",
       "    }\n",
       "</style>\n",
       "<table border=\"1\" class=\"dataframe\">\n",
       "  <thead>\n",
       "    <tr style=\"text-align: right;\">\n",
       "      <th></th>\n",
       "      <th>ADQ001</th>\n",
       "      <th>ADQ002</th>\n",
       "      <th>ADQ003</th>\n",
       "      <th>ADQ004</th>\n",
       "      <th>ADQ005</th>\n",
       "      <th>ADQ006</th>\n",
       "      <th>ADQ007</th>\n",
       "      <th>ADQ008</th>\n",
       "      <th>ADQ009</th>\n",
       "      <th>ADQ010</th>\n",
       "      <th>...</th>\n",
       "      <th>ADR070</th>\n",
       "      <th>AEQ077</th>\n",
       "      <th>AEQ079</th>\n",
       "      <th>AEQ080</th>\n",
       "      <th>AEQ081</th>\n",
       "      <th>AEQ082</th>\n",
       "      <th>AEQ084</th>\n",
       "      <th>AEQ087</th>\n",
       "      <th>AEQ088</th>\n",
       "      <th>AER090</th>\n",
       "    </tr>\n",
       "  </thead>\n",
       "  <tbody>\n",
       "    <tr>\n",
       "      <th>1.5</th>\n",
       "      <td>0.0</td>\n",
       "      <td>0.0</td>\n",
       "      <td>0.0</td>\n",
       "      <td>0.0</td>\n",
       "      <td>0.0</td>\n",
       "      <td>0.0</td>\n",
       "      <td>0.0</td>\n",
       "      <td>0.0</td>\n",
       "      <td>0.0</td>\n",
       "      <td>0.0</td>\n",
       "      <td>...</td>\n",
       "      <td>0.0</td>\n",
       "      <td>0.0</td>\n",
       "      <td>0.0</td>\n",
       "      <td>0.0</td>\n",
       "      <td>0.0</td>\n",
       "      <td>0.0</td>\n",
       "      <td>0.0</td>\n",
       "      <td>0.0</td>\n",
       "      <td>0.0</td>\n",
       "      <td>0.0</td>\n",
       "    </tr>\n",
       "    <tr>\n",
       "      <th>1.7</th>\n",
       "      <td>0.0</td>\n",
       "      <td>0.0</td>\n",
       "      <td>0.0</td>\n",
       "      <td>0.0</td>\n",
       "      <td>0.0</td>\n",
       "      <td>0.0</td>\n",
       "      <td>0.0</td>\n",
       "      <td>0.0</td>\n",
       "      <td>0.0</td>\n",
       "      <td>0.0</td>\n",
       "      <td>...</td>\n",
       "      <td>0.0</td>\n",
       "      <td>0.0</td>\n",
       "      <td>0.0</td>\n",
       "      <td>0.0</td>\n",
       "      <td>0.0</td>\n",
       "      <td>0.0</td>\n",
       "      <td>0.0</td>\n",
       "      <td>0.0</td>\n",
       "      <td>0.0</td>\n",
       "      <td>0.0</td>\n",
       "    </tr>\n",
       "    <tr>\n",
       "      <th>1.9</th>\n",
       "      <td>0.0</td>\n",
       "      <td>0.0</td>\n",
       "      <td>0.0</td>\n",
       "      <td>0.0</td>\n",
       "      <td>0.0</td>\n",
       "      <td>0.0</td>\n",
       "      <td>0.0</td>\n",
       "      <td>0.0</td>\n",
       "      <td>0.0</td>\n",
       "      <td>0.0</td>\n",
       "      <td>...</td>\n",
       "      <td>0.0</td>\n",
       "      <td>0.0</td>\n",
       "      <td>0.0</td>\n",
       "      <td>0.0</td>\n",
       "      <td>0.0</td>\n",
       "      <td>0.0</td>\n",
       "      <td>0.0</td>\n",
       "      <td>0.0</td>\n",
       "      <td>0.0</td>\n",
       "      <td>0.0</td>\n",
       "    </tr>\n",
       "    <tr>\n",
       "      <th>2.1</th>\n",
       "      <td>0.0</td>\n",
       "      <td>0.0</td>\n",
       "      <td>0.0</td>\n",
       "      <td>0.0</td>\n",
       "      <td>0.0</td>\n",
       "      <td>0.0</td>\n",
       "      <td>0.0</td>\n",
       "      <td>0.0</td>\n",
       "      <td>0.0</td>\n",
       "      <td>0.0</td>\n",
       "      <td>...</td>\n",
       "      <td>0.0</td>\n",
       "      <td>0.0</td>\n",
       "      <td>0.0</td>\n",
       "      <td>0.0</td>\n",
       "      <td>0.0</td>\n",
       "      <td>0.0</td>\n",
       "      <td>0.0</td>\n",
       "      <td>0.0</td>\n",
       "      <td>0.0</td>\n",
       "      <td>0.0</td>\n",
       "    </tr>\n",
       "    <tr>\n",
       "      <th>2.3</th>\n",
       "      <td>0.0</td>\n",
       "      <td>0.0</td>\n",
       "      <td>0.0</td>\n",
       "      <td>0.0</td>\n",
       "      <td>0.0</td>\n",
       "      <td>0.0</td>\n",
       "      <td>0.0</td>\n",
       "      <td>0.0</td>\n",
       "      <td>0.0</td>\n",
       "      <td>0.0</td>\n",
       "      <td>...</td>\n",
       "      <td>0.0</td>\n",
       "      <td>0.0</td>\n",
       "      <td>0.0</td>\n",
       "      <td>0.0</td>\n",
       "      <td>0.0</td>\n",
       "      <td>0.0</td>\n",
       "      <td>0.0</td>\n",
       "      <td>0.0</td>\n",
       "      <td>0.0</td>\n",
       "      <td>0.0</td>\n",
       "    </tr>\n",
       "    <tr>\n",
       "      <th>...</th>\n",
       "      <td>...</td>\n",
       "      <td>...</td>\n",
       "      <td>...</td>\n",
       "      <td>...</td>\n",
       "      <td>...</td>\n",
       "      <td>...</td>\n",
       "      <td>...</td>\n",
       "      <td>...</td>\n",
       "      <td>...</td>\n",
       "      <td>...</td>\n",
       "      <td>...</td>\n",
       "      <td>...</td>\n",
       "      <td>...</td>\n",
       "      <td>...</td>\n",
       "      <td>...</td>\n",
       "      <td>...</td>\n",
       "      <td>...</td>\n",
       "      <td>...</td>\n",
       "      <td>...</td>\n",
       "      <td>...</td>\n",
       "      <td>...</td>\n",
       "    </tr>\n",
       "    <tr>\n",
       "      <th>24.7</th>\n",
       "      <td>0.0</td>\n",
       "      <td>0.0</td>\n",
       "      <td>0.0</td>\n",
       "      <td>0.0</td>\n",
       "      <td>0.0</td>\n",
       "      <td>0.0</td>\n",
       "      <td>0.0</td>\n",
       "      <td>0.0</td>\n",
       "      <td>0.0</td>\n",
       "      <td>0.0</td>\n",
       "      <td>...</td>\n",
       "      <td>0.0</td>\n",
       "      <td>0.0</td>\n",
       "      <td>0.0</td>\n",
       "      <td>0.0</td>\n",
       "      <td>0.0</td>\n",
       "      <td>0.0</td>\n",
       "      <td>0.0</td>\n",
       "      <td>0.0</td>\n",
       "      <td>0.0</td>\n",
       "      <td>0.0</td>\n",
       "    </tr>\n",
       "    <tr>\n",
       "      <th>24.9</th>\n",
       "      <td>0.0</td>\n",
       "      <td>0.0</td>\n",
       "      <td>0.0</td>\n",
       "      <td>0.0</td>\n",
       "      <td>0.0</td>\n",
       "      <td>0.0</td>\n",
       "      <td>0.0</td>\n",
       "      <td>0.0</td>\n",
       "      <td>0.0</td>\n",
       "      <td>0.0</td>\n",
       "      <td>...</td>\n",
       "      <td>0.0</td>\n",
       "      <td>0.0</td>\n",
       "      <td>0.0</td>\n",
       "      <td>0.0</td>\n",
       "      <td>0.0</td>\n",
       "      <td>0.0</td>\n",
       "      <td>0.0</td>\n",
       "      <td>0.0</td>\n",
       "      <td>0.0</td>\n",
       "      <td>0.0</td>\n",
       "    </tr>\n",
       "    <tr>\n",
       "      <th>25.1</th>\n",
       "      <td>0.0</td>\n",
       "      <td>0.0</td>\n",
       "      <td>0.0</td>\n",
       "      <td>0.0</td>\n",
       "      <td>0.0</td>\n",
       "      <td>0.0</td>\n",
       "      <td>0.0</td>\n",
       "      <td>0.0</td>\n",
       "      <td>0.0</td>\n",
       "      <td>0.0</td>\n",
       "      <td>...</td>\n",
       "      <td>0.0</td>\n",
       "      <td>0.0</td>\n",
       "      <td>0.0</td>\n",
       "      <td>0.0</td>\n",
       "      <td>0.0</td>\n",
       "      <td>0.0</td>\n",
       "      <td>0.0</td>\n",
       "      <td>0.0</td>\n",
       "      <td>0.0</td>\n",
       "      <td>0.0</td>\n",
       "    </tr>\n",
       "    <tr>\n",
       "      <th>25.3</th>\n",
       "      <td>0.0</td>\n",
       "      <td>0.0</td>\n",
       "      <td>0.0</td>\n",
       "      <td>0.0</td>\n",
       "      <td>0.0</td>\n",
       "      <td>0.0</td>\n",
       "      <td>0.0</td>\n",
       "      <td>0.0</td>\n",
       "      <td>0.0</td>\n",
       "      <td>0.0</td>\n",
       "      <td>...</td>\n",
       "      <td>0.0</td>\n",
       "      <td>0.0</td>\n",
       "      <td>0.0</td>\n",
       "      <td>0.0</td>\n",
       "      <td>0.0</td>\n",
       "      <td>0.0</td>\n",
       "      <td>0.0</td>\n",
       "      <td>0.0</td>\n",
       "      <td>0.0</td>\n",
       "      <td>0.0</td>\n",
       "    </tr>\n",
       "    <tr>\n",
       "      <th>25.5</th>\n",
       "      <td>0.0</td>\n",
       "      <td>0.0</td>\n",
       "      <td>0.0</td>\n",
       "      <td>0.0</td>\n",
       "      <td>0.0</td>\n",
       "      <td>0.0</td>\n",
       "      <td>0.0</td>\n",
       "      <td>0.0</td>\n",
       "      <td>0.0</td>\n",
       "      <td>0.0</td>\n",
       "      <td>...</td>\n",
       "      <td>0.0</td>\n",
       "      <td>0.0</td>\n",
       "      <td>0.0</td>\n",
       "      <td>0.0</td>\n",
       "      <td>0.0</td>\n",
       "      <td>0.0</td>\n",
       "      <td>0.0</td>\n",
       "      <td>0.0</td>\n",
       "      <td>0.0</td>\n",
       "      <td>0.0</td>\n",
       "    </tr>\n",
       "  </tbody>\n",
       "</table>\n",
       "<p>121 rows × 71 columns</p>\n",
       "</div>"
      ],
      "text/plain": [
       "      ADQ001  ADQ002  ADQ003  ADQ004  ADQ005  ADQ006  ADQ007  ADQ008  ADQ009  \\\n",
       "1.5      0.0     0.0     0.0     0.0     0.0     0.0     0.0     0.0     0.0   \n",
       "1.7      0.0     0.0     0.0     0.0     0.0     0.0     0.0     0.0     0.0   \n",
       "1.9      0.0     0.0     0.0     0.0     0.0     0.0     0.0     0.0     0.0   \n",
       "2.1      0.0     0.0     0.0     0.0     0.0     0.0     0.0     0.0     0.0   \n",
       "2.3      0.0     0.0     0.0     0.0     0.0     0.0     0.0     0.0     0.0   \n",
       "...      ...     ...     ...     ...     ...     ...     ...     ...     ...   \n",
       "24.7     0.0     0.0     0.0     0.0     0.0     0.0     0.0     0.0     0.0   \n",
       "24.9     0.0     0.0     0.0     0.0     0.0     0.0     0.0     0.0     0.0   \n",
       "25.1     0.0     0.0     0.0     0.0     0.0     0.0     0.0     0.0     0.0   \n",
       "25.3     0.0     0.0     0.0     0.0     0.0     0.0     0.0     0.0     0.0   \n",
       "25.5     0.0     0.0     0.0     0.0     0.0     0.0     0.0     0.0     0.0   \n",
       "\n",
       "      ADQ010  ...  ADR070  AEQ077  AEQ079  AEQ080  AEQ081  AEQ082  AEQ084  \\\n",
       "1.5      0.0  ...     0.0     0.0     0.0     0.0     0.0     0.0     0.0   \n",
       "1.7      0.0  ...     0.0     0.0     0.0     0.0     0.0     0.0     0.0   \n",
       "1.9      0.0  ...     0.0     0.0     0.0     0.0     0.0     0.0     0.0   \n",
       "2.1      0.0  ...     0.0     0.0     0.0     0.0     0.0     0.0     0.0   \n",
       "2.3      0.0  ...     0.0     0.0     0.0     0.0     0.0     0.0     0.0   \n",
       "...      ...  ...     ...     ...     ...     ...     ...     ...     ...   \n",
       "24.7     0.0  ...     0.0     0.0     0.0     0.0     0.0     0.0     0.0   \n",
       "24.9     0.0  ...     0.0     0.0     0.0     0.0     0.0     0.0     0.0   \n",
       "25.1     0.0  ...     0.0     0.0     0.0     0.0     0.0     0.0     0.0   \n",
       "25.3     0.0  ...     0.0     0.0     0.0     0.0     0.0     0.0     0.0   \n",
       "25.5     0.0  ...     0.0     0.0     0.0     0.0     0.0     0.0     0.0   \n",
       "\n",
       "      AEQ087  AEQ088  AER090  \n",
       "1.5      0.0     0.0     0.0  \n",
       "1.7      0.0     0.0     0.0  \n",
       "1.9      0.0     0.0     0.0  \n",
       "2.1      0.0     0.0     0.0  \n",
       "2.3      0.0     0.0     0.0  \n",
       "...      ...     ...     ...  \n",
       "24.7     0.0     0.0     0.0  \n",
       "24.9     0.0     0.0     0.0  \n",
       "25.1     0.0     0.0     0.0  \n",
       "25.3     0.0     0.0     0.0  \n",
       "25.5     0.0     0.0     0.0  \n",
       "\n",
       "[121 rows x 71 columns]"
      ]
     },
     "execution_count": 168,
     "metadata": {},
     "output_type": "execute_result"
    }
   ],
   "source": [
    "ClapDets=partDets.loc[partDets['Participant_Code'].isin(Clap_Feats.columns),:]\n",
    "#Clap_Feats = Clap_Feats[ClapDets['Participant_Code']]\n",
    "Clap_Feats.fillna(0,inplace = True)\n",
    "Clap_Feats"
   ]
  },
  {
   "cell_type": "code",
   "execution_count": 169,
   "id": "b0579a1c",
   "metadata": {
    "scrolled": false
   },
   "outputs": [
    {
     "data": {
      "image/png": "[encoded data removed]",
      "text/plain": [
       "<Figure size 432x432 with 2 Axes>"
      ]
     },
     "metadata": {
      "needs_background": "light"
     },
     "output_type": "display_data"
    }
   ],
   "source": [
    "i = 80\n",
    "plt.figure(figsize=[6,6])\n",
    "plt.scatter(x=ClapDets['Y'],y=ClapDets['X'], c=Clap_Feats.iloc[i,:].values, cmap='twilight', vmin=0.2, vmax=0.4, s=400, marker=\"h\", alpha=0.6)\n",
    "plt.xlim([-8,8])\n",
    "plt.ylim([0,13])\n",
    "plt.xticks([])\n",
    "plt.yticks([])\n",
    "plt.xlabel('Stage')\n",
    "plt.title(clapname[:-4] + ' Inter-Clap-Intervals (s) ' + str(np.round(Clap_Feats.iloc[i,:].name,2)))\n",
    "cbar = plt.colorbar()\n",
    "\n",
    "# now add the relationships Friends\n",
    "Friends = Near_Rels[Near_Rels['Relationship'].str.contains('Friend')]\n",
    "Friends\n",
    "for i,ship in Friends.iterrows():\n",
    "    P1 = partDets.loc[partDets['Participant_Code'] == ship['Participant_Code_1'],:]\n",
    "    P2 = partDets.loc[partDets['Participant_Code'] == ship['Participant_Code_2'],:] \n",
    "    plt.plot(np.array([P1['Y'],P2['Y']]),np.array([P1['X']-0.05,P2['X']]),'b',linewidth = 1)\n",
    "\n",
    "Family = Near_Rels[Near_Rels['Relationship'].str.contains('Family')]\n",
    "Family\n",
    "for i,ship in Family.iterrows():\n",
    "    P1 = partDets.loc[partDets['Participant_Code'] == ship['Participant_Code_1'],:]\n",
    "    P2 = partDets.loc[partDets['Participant_Code'] == ship['Participant_Code_2'],:]\n",
    "    plt.plot(np.array([P1['Y'],P2['Y']]),np.array([P1['X']-0.05,P2['X']]),'r',linewidth = 1)\n",
    "\n",
    "\n",
    "# cbar.solids.set_edgecolor(\"face\")\n",
    "# plt.draw()\n",
    "# show the graph\n",
    "#plt.savefig('./plots/Audience_Devices.png',dpi = 300)\n",
    "plt.show()"
   ]
  },
  {
   "cell_type": "code",
   "execution_count": 170,
   "id": "74fc35f1",
   "metadata": {},
   "outputs": [
    {
     "data": {
      "text/plain": [
       "(array([ 1.63934426,  0.        ,  0.        ,  1.63934426,  6.55737705,\n",
       "         3.27868852,  6.55737705, 11.47540984, 14.75409836,  4.91803279,\n",
       "        13.1147541 ,  3.27868852,  8.19672131, 11.47540984,  4.91803279,\n",
       "         4.91803279,  1.63934426,  0.        ,  1.63934426]),\n",
       " array([0.2 , 0.21, 0.22, 0.23, 0.24, 0.25, 0.26, 0.27, 0.28, 0.29, 0.3 ,\n",
       "        0.31, 0.32, 0.33, 0.34, 0.35, 0.36, 0.37, 0.38, 0.39]),\n",
       " <BarContainer object of 19 artists>)"
      ]
     },
     "execution_count": 170,
     "metadata": {},
     "output_type": "execute_result"
    },
    {
     "data": {
      "image/png": "[encoded data removed]",
      "text/plain": [
       "<Figure size 432x288 with 2 Axes>"
      ]
     },
     "metadata": {
      "needs_background": "light"
     },
     "output_type": "display_data"
    }
   ],
   "source": [
    "fig, axs = plt.subplots(1, 2, tight_layout=True)\n",
    "\n",
    "vmin=0.2\n",
    "vmax=0.4\n",
    "bins = np.arange(vmin,vmax,0.01)\n",
    "#colors.Colormap('twilight')\n",
    "cm = plt.cm.get_cmap('twilight')\n",
    "# N is the count in each bin, bins is the lower-limit of the bin\n",
    "n, bins, patches = axs[0].hist(Clap_Feats.iloc[80,:].values,bins,density=True, histtype='bar')\n",
    "bin_centers = 0.5 * (bins[:-1] + bins[1:])\n",
    "# We'll color code by height, but you could use any scalar\n",
    "fracs = bins / bins.max()\n",
    "\n",
    "# scale values to interval [0,1]\n",
    "col = bin_centers - min(bin_centers)\n",
    "col /= max(col)\n",
    "\n",
    "for c, p in zip(col, patches):\n",
    "    plt.setp(p, 'facecolor', cm(c))\n",
    "\n",
    "\n",
    "# # we need to normalize the data to 0..1 for the full range of the colormap\n",
    "# norm = colors.Normalize(fracs.min(), fracs.max())\n",
    "\n",
    "# # Now, we'll loop through our objects and set the color of each accordingly\n",
    "# for thisfrac, thispatch in zip(fracs, patches):\n",
    "#     color = plt.cm.viridis(norm(thisfrac))\n",
    "#     thispatch.set_facecolor(color)\n",
    "\n",
    "# We can also normalize our inputs by the total number of counts\n",
    "axs[1].hist(Clap_Feats.iloc[80,:].values,bins,density=True, histtype='bar')\n"
   ]
  },
  {
   "cell_type": "code",
   "execution_count": null,
   "id": "c6a2951b",
   "metadata": {},
   "outputs": [],
   "source": []
  },
  {
   "cell_type": "code",
   "execution_count": 172,
   "id": "6a82bd45",
   "metadata": {
    "scrolled": false
   },
   "outputs": [
    {
     "data": {
      "image/png": "[encoded data removed]",
      "text/plain": [
       "<Figure size 432x648 with 2 Axes>"
      ]
     },
     "metadata": {
      "needs_background": "light"
     },
     "output_type": "display_data"
    }
   ],
   "source": [
    "slice_i = 50\n",
    "vmin=0.11\n",
    "vmax=0.51\n",
    "bins = np.arange(vmin,vmax,0.02)\n",
    "colours = 'twilight'\n",
    "cm = plt.cm.get_cmap(colours)\n",
    "bin_centers = 0.5 * (bins[:-1] + bins[1:])\n",
    "# We'll color code by height, but you could use any scalar\n",
    "fracs = bins / bins.max()\n",
    "col = bin_centers - min(bin_centers)\n",
    "col /= max(col)\n",
    "\n",
    "fig, ax = plt.subplots(2, 1, figsize = (6,9),gridspec_kw={'height_ratios': [4, 1]})\n",
    "\n",
    "ax[0].scatter(x=ClapDets['Y'],y=ClapDets['X'], c=Clap_Feats.iloc[slice_i,:].values, cmap=colours, vmin=vmin, vmax=vmax, s=400, marker=\"h\", alpha=0.8)\n",
    "ax[0].set_xlim([-8,8])\n",
    "ax[0].set_ylim([0,12])\n",
    "ax[0].set_xticks([])\n",
    "ax[0].set_yticks([])\n",
    "ax[0].set_xlabel('Stage')\n",
    "ax[0].set_title(clapname[:-4] + ' Inter-Clap-Intervals (s) ' + str(np.round(Clap_Feats.iloc[slice_i,:].name,2)))\n",
    "\n",
    "# N is the count in each bin, bins is the lower-limit of the bin\n",
    "n, bins, patches = ax[1].hist(Clap_Feats.iloc[slice_i,:].values,bins,alpha=0.8)\n",
    "for c, p in zip(col, patches):\n",
    "    plt.setp(p, 'facecolor', cm(c))\n",
    "ax[1].set_xlabel('Local Median ICI (s)')\n",
    "ax[1].set_ylim([0,40])\n",
    "# show the graph\n",
    "#plt.savefig('./plots/Audience_Devices.png',dpi = 300)\n",
    "plt.show()"
   ]
  },
  {
   "cell_type": "code",
   "execution_count": 143,
   "id": "a717524a",
   "metadata": {
    "scrolled": false
   },
   "outputs": [
    {
     "data": {
      "image/png": "[encoded data removed]",
      "text/plain": [
       "<Figure size 432x432 with 2 Axes>"
      ]
     },
     "metadata": {
      "needs_background": "light"
     },
     "output_type": "display_data"
    }
   ],
   "source": [
    "i = 160\n",
    "plt.figure(figsize=[6,6])\n",
    "plt.scatter(x=ClapDets['Y'],y=ClapDets['X'], c=Clap_Feats.iloc[i,:].values, cmap='twilight', vmin=0.2, vmax=0.4, s=400, marker=\"h\", alpha=0.6)\n",
    "plt.xlim([-8,8])\n",
    "plt.ylim([0,13])\n",
    "plt.xticks([])\n",
    "plt.yticks([])\n",
    "plt.xlabel('Stage')\n",
    "plt.title(clapname[:-4] + ' Inter-Clap-Intervals (s) ' + str(np.round(Clap_Feats.iloc[i,:].name,2)))\n",
    "cbar = plt.colorbar()\n",
    "\n",
    "# now add the relationships Friends\n",
    "Friends = Near_Rels[Near_Rels['Relationship'].str.contains('Friend')]\n",
    "Friends\n",
    "for i,ship in Friends.iterrows():\n",
    "    P1 = partDets.loc[partDets['Participant_Code'] == ship['Participant_Code_1'],:]\n",
    "    P2 = partDets.loc[partDets['Participant_Code'] == ship['Participant_Code_2'],:] \n",
    "    plt.plot(np.array([P1['Y'],P2['Y']]),np.array([P1['X']-0.05,P2['X']]),'b',linewidth = 1)\n",
    "\n",
    "Family = Near_Rels[Near_Rels['Relationship'].str.contains('Family')]\n",
    "Family\n",
    "for i,ship in Family.iterrows():\n",
    "    P1 = partDets.loc[partDets['Participant_Code'] == ship['Participant_Code_1'],:]\n",
    "    P2 = partDets.loc[partDets['Participant_Code'] == ship['Participant_Code_2'],:]\n",
    "    plt.plot(np.array([P1['Y'],P2['Y']]),np.array([P1['X']-0.05,P2['X']]),'r',linewidth = 1)\n",
    "\n",
    "\n",
    "# cbar.solids.set_edgecolor(\"face\")\n",
    "# plt.draw()\n",
    "# show the graph\n",
    "#plt.savefig('./plots/Audience_Devices.png',dpi = 300)\n",
    "plt.show()"
   ]
  },
  {
   "cell_type": "code",
   "execution_count": 144,
   "id": "b36f9d41",
   "metadata": {
    "scrolled": true
   },
   "outputs": [],
   "source": [
    "# generate gif with this \n",
    "filenames = []\n",
    "for i in range(len(Clap_Feats)):\n",
    "    # plot the line chart\n",
    "    plt.figure(figsize=[6,6])\n",
    "    plt.scatter(x=ClapDets['Y'],y=ClapDets['X'], c=Clap_Feats.iloc[i,:].values,  cmap='twilight', vmin=0.2, vmax=0.5, s=400, marker=\"h\", alpha=0.6)\n",
    "    plt.xlim([-8,8])\n",
    "    plt.ylim([0,13])\n",
    "    plt.xticks([])\n",
    "    plt.yticks([])\n",
    "    plt.xlabel('Stage')\n",
    "    plt.title(clapname[:-4] + ' Inter-Clap-Intervals (s) ' + str(np.round(Clap_Feats.iloc[i,:].name,2)))\n",
    "    cbar = plt.colorbar()\n",
    "    # create file name and append it to a list\n",
    "    filename = f'{i}.png'\n",
    "    filenames.append(filename)\n",
    "    \n",
    "    # save frame\n",
    "    plt.savefig(filename)\n",
    "    plt.close()\n",
    "# extend the last image before looping\n",
    "filenames.append(filename)\n",
    "filenames.append(filename)\n",
    "filenames.append(filename)\n",
    "filenames.append(filename)\n",
    "# build gif\n",
    "gif_path = './plots/Clapping_'+clapname[:-4]+'_ICI_5hz.gif'\n",
    "with imageio.get_writer(gif_path, mode='I') as writer:\n",
    "    for filename in filenames:\n",
    "        image = imageio.imread(filename)\n",
    "        writer.append_data(image)\n",
    "        \n",
    "# Remove files\n",
    "for filename in set(filenames):\n",
    "    os.remove(filename)"
   ]
  },
  {
   "cell_type": "code",
   "execution_count": null,
   "id": "70b8cd5e",
   "metadata": {},
   "outputs": [],
   "source": [
    "import moviepy.editor as mp\n",
    "\n",
    "clip = mp.VideoFileClip(\"mygif.gif\")\n",
    "clip.write_videofile(\"myvideo.mp4\")"
   ]
  },
  {
   "cell_type": "code",
   "execution_count": 173,
   "id": "f6201d85",
   "metadata": {
    "scrolled": true
   },
   "outputs": [],
   "source": [
    "# generate gif with this \n",
    "filenames = []\n",
    "vmin=0.11\n",
    "vmax=0.51\n",
    "bins = np.arange(vmin,vmax,0.02)\n",
    "colours = 'twilight'\n",
    "cm = plt.cm.get_cmap(colours)\n",
    "bin_centers = 0.5 * (bins[:-1] + bins[1:])\n",
    "# We'll color code by height, but you could use any scalar\n",
    "fracs = bins / bins.max()\n",
    "col = bin_centers - min(bin_centers)\n",
    "col /= max(col)\n",
    "\n",
    "for slice_i in range(len(Clap_Feats)):\n",
    "    fig, ax = plt.subplots(2, 1, figsize = (6,9),gridspec_kw={'height_ratios': [4, 1]})\n",
    "\n",
    "    ax[0].scatter(x=ClapDets['Y'],y=ClapDets['X'], c=Clap_Feats.iloc[slice_i,:].values, cmap=colours, vmin=vmin, vmax=vmax, s=400, marker=\"h\", alpha=0.6)\n",
    "    ax[0].set_xlim([-8,8])\n",
    "    ax[0].set_ylim([0,12])\n",
    "    ax[0].set_xticks([])\n",
    "    ax[0].set_yticks([])\n",
    "    ax[0].set_xlabel('Stage')\n",
    "    ax[0].set_title(clapname[:-4] + ' Inter-Clap-Intervals (s) ' + str(np.round(Clap_Feats.iloc[slice_i,:].name,2)))\n",
    "\n",
    "    # N is the count in each bin, bins is the lower-limit of the bin\n",
    "    n, bins, patches = ax[1].hist(Clap_Feats.iloc[slice_i,:].values,bins,alpha=0.6)\n",
    "    for c, p in zip(col, patches):\n",
    "        plt.setp(p, 'facecolor', cm(c))\n",
    "    ax[1].set_xlabel('Local Median ICI (s)')\n",
    "    ax[1].set_ylim([0,40])\n",
    "\n",
    "    # create file name and append it to a list\n",
    "    filename = f'{slice_i}.png'\n",
    "    filenames.append(filename)\n",
    "    \n",
    "    \n",
    "    # save frame\n",
    "    plt.savefig(filename)\n",
    "    plt.close()\n",
    "# extend the last image before looping\n",
    "filenames.append(filename)\n",
    "filenames.append(filename)\n",
    "filenames.append(filename)\n",
    "filenames.append(filename)\n",
    "# build gif\n",
    "gif_path = './plots/Clapping_'+clapname[:-4]+'_ICI_5hz_hist.gif'\n",
    "with imageio.get_writer(gif_path, mode='I') as writer:\n",
    "    for filename in filenames:\n",
    "        image = imageio.imread(filename)\n",
    "        writer.append_data(image)\n",
    "        \n",
    "# Remove files\n",
    "for filename in set(filenames):\n",
    "    os.remove(filename)"
   ]
  },
  {
   "cell_type": "code",
   "execution_count": 106,
   "id": "488744e2",
   "metadata": {},
   "outputs": [
    {
     "data": {
      "text/plain": [
       "'C:\\\\Users\\\\finnu\\\\dev\\\\Clapping_Coordination'"
      ]
     },
     "execution_count": 106,
     "metadata": {},
     "output_type": "execute_result"
    }
   ],
   "source": [
    "pwd"
   ]
  },
  {
   "cell_type": "raw",
   "id": "27cdd76f",
   "metadata": {},
   "source": [
    "from pygifsicle import optimize\n",
    "\n",
    "# optimize(gif_path, \"optimized.gif\") # For creating a new one\n",
    "optimize(gif_path) # For overwriting the original one"
   ]
  },
  {
   "cell_type": "markdown",
   "id": "cd653058",
   "metadata": {},
   "source": [
    "# Spacial and Social factors for clapping rates?\n",
    "\n",
    "- Look at pairwise local ICI medians for all relationships (spatial, social)"
   ]
  },
  {
   "cell_type": "code",
   "execution_count": 80,
   "id": "40a0216b",
   "metadata": {},
   "outputs": [
    {
     "data": {
      "text/html": [
       "<div>\n",
       "<style scoped>\n",
       "    .dataframe tbody tr th:only-of-type {\n",
       "        vertical-align: middle;\n",
       "    }\n",
       "\n",
       "    .dataframe tbody tr th {\n",
       "        vertical-align: top;\n",
       "    }\n",
       "\n",
       "    .dataframe thead th {\n",
       "        text-align: right;\n",
       "    }\n",
       "</style>\n",
       "<table border=\"1\" class=\"dataframe\">\n",
       "  <thead>\n",
       "    <tr style=\"text-align: right;\">\n",
       "      <th></th>\n",
       "      <th>Participant_Code_1</th>\n",
       "      <th>Participant_Code_2</th>\n",
       "      <th>Distance</th>\n",
       "      <th>Familiarity</th>\n",
       "      <th>Relationship</th>\n",
       "    </tr>\n",
       "  </thead>\n",
       "  <tbody>\n",
       "    <tr>\n",
       "      <th>0</th>\n",
       "      <td>ADQ001</td>\n",
       "      <td>ADQ006</td>\n",
       "      <td>3.0</td>\n",
       "      <td>0</td>\n",
       "      <td>Stranger</td>\n",
       "    </tr>\n",
       "    <tr>\n",
       "      <th>1</th>\n",
       "      <td>ADQ001</td>\n",
       "      <td>ADQ023</td>\n",
       "      <td>2.0</td>\n",
       "      <td>0</td>\n",
       "      <td>Stranger</td>\n",
       "    </tr>\n",
       "    <tr>\n",
       "      <th>2</th>\n",
       "      <td>ADQ001</td>\n",
       "      <td>ADQ024</td>\n",
       "      <td>2.0</td>\n",
       "      <td>0</td>\n",
       "      <td>Stranger</td>\n",
       "    </tr>\n",
       "    <tr>\n",
       "      <th>3</th>\n",
       "      <td>ADQ001</td>\n",
       "      <td>ADQ031</td>\n",
       "      <td>2.0</td>\n",
       "      <td>0</td>\n",
       "      <td>Stranger</td>\n",
       "    </tr>\n",
       "    <tr>\n",
       "      <th>4</th>\n",
       "      <td>ADQ001</td>\n",
       "      <td>ADQ035</td>\n",
       "      <td>2.0</td>\n",
       "      <td>0</td>\n",
       "      <td>Stranger</td>\n",
       "    </tr>\n",
       "    <tr>\n",
       "      <th>...</th>\n",
       "      <td>...</td>\n",
       "      <td>...</td>\n",
       "      <td>...</td>\n",
       "      <td>...</td>\n",
       "      <td>...</td>\n",
       "    </tr>\n",
       "    <tr>\n",
       "      <th>375</th>\n",
       "      <td>AEQ080</td>\n",
       "      <td>AEQ081</td>\n",
       "      <td>3.0</td>\n",
       "      <td>0</td>\n",
       "      <td>Stranger</td>\n",
       "    </tr>\n",
       "    <tr>\n",
       "      <th>376</th>\n",
       "      <td>AEQ080</td>\n",
       "      <td>AEQ089</td>\n",
       "      <td>1.0</td>\n",
       "      <td>1</td>\n",
       "      <td>Family_ParentChild</td>\n",
       "    </tr>\n",
       "    <tr>\n",
       "      <th>377</th>\n",
       "      <td>AEQ081</td>\n",
       "      <td>AEQ082</td>\n",
       "      <td>1.0</td>\n",
       "      <td>1</td>\n",
       "      <td>Family_Partner</td>\n",
       "    </tr>\n",
       "    <tr>\n",
       "      <th>378</th>\n",
       "      <td>AEQ082</td>\n",
       "      <td>AEQ087</td>\n",
       "      <td>3.0</td>\n",
       "      <td>0</td>\n",
       "      <td>Stranger</td>\n",
       "    </tr>\n",
       "    <tr>\n",
       "      <th>379</th>\n",
       "      <td>AEQ087</td>\n",
       "      <td>AER090</td>\n",
       "      <td>3.0</td>\n",
       "      <td>0</td>\n",
       "      <td>Stranger</td>\n",
       "    </tr>\n",
       "  </tbody>\n",
       "</table>\n",
       "<p>380 rows × 5 columns</p>\n",
       "</div>"
      ],
      "text/plain": [
       "    Participant_Code_1 Participant_Code_2  Distance  Familiarity  \\\n",
       "0               ADQ001             ADQ006       3.0            0   \n",
       "1               ADQ001             ADQ023       2.0            0   \n",
       "2               ADQ001             ADQ024       2.0            0   \n",
       "3               ADQ001             ADQ031       2.0            0   \n",
       "4               ADQ001             ADQ035       2.0            0   \n",
       "..                 ...                ...       ...          ...   \n",
       "375             AEQ080             AEQ081       3.0            0   \n",
       "376             AEQ080             AEQ089       1.0            1   \n",
       "377             AEQ081             AEQ082       1.0            1   \n",
       "378             AEQ082             AEQ087       3.0            0   \n",
       "379             AEQ087             AER090       3.0            0   \n",
       "\n",
       "           Relationship  \n",
       "0              Stranger  \n",
       "1              Stranger  \n",
       "2              Stranger  \n",
       "3              Stranger  \n",
       "4              Stranger  \n",
       "..                  ...  \n",
       "375            Stranger  \n",
       "376  Family_ParentChild  \n",
       "377      Family_Partner  \n",
       "378            Stranger  \n",
       "379            Stranger  \n",
       "\n",
       "[380 rows x 5 columns]"
      ]
     },
     "execution_count": 80,
     "metadata": {},
     "output_type": "execute_result"
    }
   ],
   "source": [
    "Near_Rels = pd.read_csv(public_Part + 'Near_Participants_Hall.csv')\n",
    "\n",
    "# reduce to list of relationships included in the dataset available here\n",
    "Part_Codes = Clap_Feats.columns\n",
    "Sub_Rels = Near_Rels.loc[Near_Rels['Participant_Code_1'].isin(Part_Codes),:]\n",
    "Sub_Rels = Sub_Rels.loc[Sub_Rels['Participant_Code_2'].isin(Part_Codes),:].reset_index(drop = True)\n",
    "Sub_Rels.loc[Sub_Rels['Distance'] == -2.0,'Distance'] = 2.0\n",
    "Sub_Rels"
   ]
  },
  {
   "cell_type": "markdown",
   "id": "a1eba3fe",
   "metadata": {},
   "source": [
    "Do participants clap like their neighbours during independent clapping? how about during synchronised clapping? do they clap as long as their neighbours/friends?"
   ]
  },
  {
   "cell_type": "markdown",
   "id": "a05c5794",
   "metadata": {},
   "source": [
    "##  Clapping duration and intensity\n",
    "By correlating clapping features over the full intervals, we can capture pairwise similarity between neighbours and friends in when they clap, when they clap fastest or slowest and when they are still. This is not evaluating if they clapped in synch."
   ]
  },
  {
   "cell_type": "code",
   "execution_count": 47,
   "id": "37208fa9",
   "metadata": {},
   "outputs": [
    {
     "data": {
      "text/plain": [
       "<AxesSubplot:>"
      ]
     },
     "execution_count": 47,
     "metadata": {},
     "output_type": "execute_result"
    },
    {
     "data": {
      "image/png": "[encoded data removed]",
      "text/plain": [
       "<Figure size 432x288 with 1 Axes>"
      ]
     },
     "metadata": {
      "needs_background": "light"
     },
     "output_type": "display_data"
    }
   ],
   "source": [
    "A = Clap_Feats.corr(method = 'spearman')\n",
    "A.median().plot()"
   ]
  },
  {
   "cell_type": "code",
   "execution_count": 48,
   "id": "ef1d7730",
   "metadata": {},
   "outputs": [],
   "source": [
    "# build a data frame with pairwise spearman correlations as a dependent variable\n",
    "Sub_Rels['Seg_Corr'] = 0\n",
    "\n",
    "for i,row in Sub_Rels.iterrows():\n",
    "    Sub_Rels.loc[i,'Seg_Corr'] = A[row['Participant_Code_1']][row['Participant_Code_2']]"
   ]
  },
  {
   "cell_type": "code",
   "execution_count": 50,
   "id": "6e6f28f7",
   "metadata": {},
   "outputs": [
    {
     "data": {
      "text/html": [
       "<div>\n",
       "<style scoped>\n",
       "    .dataframe tbody tr th:only-of-type {\n",
       "        vertical-align: middle;\n",
       "    }\n",
       "\n",
       "    .dataframe tbody tr th {\n",
       "        vertical-align: top;\n",
       "    }\n",
       "\n",
       "    .dataframe thead th {\n",
       "        text-align: right;\n",
       "    }\n",
       "</style>\n",
       "<table border=\"1\" class=\"dataframe\">\n",
       "  <thead>\n",
       "    <tr style=\"text-align: right;\">\n",
       "      <th></th>\n",
       "      <th>Source</th>\n",
       "      <th>SS</th>\n",
       "      <th>DF</th>\n",
       "      <th>MS</th>\n",
       "      <th>F</th>\n",
       "      <th>p-unc</th>\n",
       "      <th>np2</th>\n",
       "    </tr>\n",
       "  </thead>\n",
       "  <tbody>\n",
       "    <tr>\n",
       "      <th>0</th>\n",
       "      <td>Distance</td>\n",
       "      <td>0.000210</td>\n",
       "      <td>2.0</td>\n",
       "      <td>0.000105</td>\n",
       "      <td>0.002711</td>\n",
       "      <td>9.972930e-01</td>\n",
       "      <td>0.000015</td>\n",
       "    </tr>\n",
       "    <tr>\n",
       "      <th>1</th>\n",
       "      <td>Relationship</td>\n",
       "      <td>26.890052</td>\n",
       "      <td>5.0</td>\n",
       "      <td>5.378010</td>\n",
       "      <td>139.111313</td>\n",
       "      <td>1.917307e-82</td>\n",
       "      <td>0.654607</td>\n",
       "    </tr>\n",
       "    <tr>\n",
       "      <th>2</th>\n",
       "      <td>Distance * Relationship</td>\n",
       "      <td>0.559948</td>\n",
       "      <td>10.0</td>\n",
       "      <td>0.055995</td>\n",
       "      <td>1.448399</td>\n",
       "      <td>1.572207e-01</td>\n",
       "      <td>0.037967</td>\n",
       "    </tr>\n",
       "    <tr>\n",
       "      <th>3</th>\n",
       "      <td>Residual</td>\n",
       "      <td>14.188133</td>\n",
       "      <td>367.0</td>\n",
       "      <td>0.038660</td>\n",
       "      <td>NaN</td>\n",
       "      <td>NaN</td>\n",
       "      <td>NaN</td>\n",
       "    </tr>\n",
       "  </tbody>\n",
       "</table>\n",
       "</div>"
      ],
      "text/plain": [
       "                    Source         SS     DF        MS           F  \\\n",
       "0                 Distance   0.000210    2.0  0.000105    0.002711   \n",
       "1             Relationship  26.890052    5.0  5.378010  139.111313   \n",
       "2  Distance * Relationship   0.559948   10.0  0.055995    1.448399   \n",
       "3                 Residual  14.188133  367.0  0.038660         NaN   \n",
       "\n",
       "          p-unc       np2  \n",
       "0  9.972930e-01  0.000015  \n",
       "1  1.917307e-82  0.654607  \n",
       "2  1.572207e-01  0.037967  \n",
       "3           NaN       NaN  "
      ]
     },
     "execution_count": 50,
     "metadata": {},
     "output_type": "execute_result"
    }
   ],
   "source": [
    "pg.anova(dv=\"Seg_Corr\",between = [\"Distance\",\"Relationship\"], data=Sub_Rels)"
   ]
  },
  {
   "cell_type": "code",
   "execution_count": 49,
   "id": "5e8a13ac",
   "metadata": {},
   "outputs": [
    {
     "data": {
      "text/html": [
       "<div>\n",
       "<style scoped>\n",
       "    .dataframe tbody tr th:only-of-type {\n",
       "        vertical-align: middle;\n",
       "    }\n",
       "\n",
       "    .dataframe tbody tr th {\n",
       "        vertical-align: top;\n",
       "    }\n",
       "\n",
       "    .dataframe thead th {\n",
       "        text-align: right;\n",
       "    }\n",
       "</style>\n",
       "<table border=\"1\" class=\"dataframe\">\n",
       "  <thead>\n",
       "    <tr style=\"text-align: right;\">\n",
       "      <th></th>\n",
       "      <th>Source</th>\n",
       "      <th>SS</th>\n",
       "      <th>DF</th>\n",
       "      <th>MS</th>\n",
       "      <th>F</th>\n",
       "      <th>p-unc</th>\n",
       "      <th>np2</th>\n",
       "    </tr>\n",
       "  </thead>\n",
       "  <tbody>\n",
       "    <tr>\n",
       "      <th>0</th>\n",
       "      <td>Distance</td>\n",
       "      <td>0.094456</td>\n",
       "      <td>2.0</td>\n",
       "      <td>0.047228</td>\n",
       "      <td>1.194645</td>\n",
       "      <td>0.303964</td>\n",
       "      <td>0.006348</td>\n",
       "    </tr>\n",
       "    <tr>\n",
       "      <th>1</th>\n",
       "      <td>Familiarity</td>\n",
       "      <td>0.016884</td>\n",
       "      <td>1.0</td>\n",
       "      <td>0.016884</td>\n",
       "      <td>0.427074</td>\n",
       "      <td>0.513830</td>\n",
       "      <td>0.001141</td>\n",
       "    </tr>\n",
       "    <tr>\n",
       "      <th>2</th>\n",
       "      <td>Distance * Familiarity</td>\n",
       "      <td>0.043193</td>\n",
       "      <td>2.0</td>\n",
       "      <td>0.021597</td>\n",
       "      <td>0.546296</td>\n",
       "      <td>0.579552</td>\n",
       "      <td>0.002913</td>\n",
       "    </tr>\n",
       "    <tr>\n",
       "      <th>3</th>\n",
       "      <td>Residual</td>\n",
       "      <td>14.785371</td>\n",
       "      <td>374.0</td>\n",
       "      <td>0.039533</td>\n",
       "      <td>NaN</td>\n",
       "      <td>NaN</td>\n",
       "      <td>NaN</td>\n",
       "    </tr>\n",
       "  </tbody>\n",
       "</table>\n",
       "</div>"
      ],
      "text/plain": [
       "                   Source         SS     DF        MS         F     p-unc  \\\n",
       "0                Distance   0.094456    2.0  0.047228  1.194645  0.303964   \n",
       "1             Familiarity   0.016884    1.0  0.016884  0.427074  0.513830   \n",
       "2  Distance * Familiarity   0.043193    2.0  0.021597  0.546296  0.579552   \n",
       "3                Residual  14.785371  374.0  0.039533       NaN       NaN   \n",
       "\n",
       "        np2  \n",
       "0  0.006348  \n",
       "1  0.001141  \n",
       "2  0.002913  \n",
       "3       NaN  "
      ]
     },
     "execution_count": 49,
     "metadata": {},
     "output_type": "execute_result"
    }
   ],
   "source": [
    "pg.anova(dv=\"Seg_Corr\",between = [\"Distance\",\"Familiarity\"], data=Sub_Rels)"
   ]
  },
  {
   "cell_type": "code",
   "execution_count": 51,
   "id": "a84b446e",
   "metadata": {},
   "outputs": [
    {
     "data": {
      "image/png": "[encoded data removed]",
      "text/plain": [
       "<Figure size 432x288 with 1 Axes>"
      ]
     },
     "metadata": {
      "needs_background": "light"
     },
     "output_type": "display_data"
    },
    {
     "name": "stdout",
     "output_type": "stream",
     "text": [
      "         Source  ddof1  ddof2         F     p-unc       np2\n",
      "0  Relationship      3     31  2.292741  0.097496  0.181588\n"
     ]
    },
    {
     "data": {
      "image/png": "[encoded data removed]",
      "text/plain": [
       "<Figure size 432x288 with 1 Axes>"
      ]
     },
     "metadata": {
      "needs_background": "light"
     },
     "output_type": "display_data"
    },
    {
     "name": "stdout",
     "output_type": "stream",
     "text": [
      "     Source  ddof1  ddof2         F     p-unc       np2\n",
      "0  Distance      2     46  1.005449  0.373778  0.041884\n"
     ]
    },
    {
     "data": {
      "image/png": "[encoded data removed]",
      "text/plain": [
       "<Figure size 432x288 with 1 Axes>"
      ]
     },
     "metadata": {
      "needs_background": "light"
     },
     "output_type": "display_data"
    },
    {
     "name": "stdout",
     "output_type": "stream",
     "text": [
      "     Source  ddof1  ddof2         F     p-unc       np2\n",
      "0  Distance      2    328  0.537396  0.584781  0.003266\n"
     ]
    }
   ],
   "source": [
    "Sub_Sub_Rels = Sub_Rels[Sub_Rels['Distance'] == 1.0]\n",
    "sns.boxenplot(x = \"Relationship\",y = 'Seg_Corr',width = 1, data = Sub_Sub_Rels)\n",
    "plt.title('Adjacently seated')\n",
    "plt.show()\n",
    "aov = pg.anova(dv=\"Seg_Corr\",between = \"Relationship\", data=Sub_Sub_Rels)\n",
    "print(aov)\n",
    "\n",
    "Sub_Sub_Rels = Sub_Rels[Sub_Rels[\"Familiarity\"] == 1]\n",
    "sns.boxenplot(x = 'Distance',y = 'Seg_Corr',width = 1, data = Sub_Sub_Rels)\n",
    "plt.title('When Known to each other')\n",
    "plt.show()\n",
    "aov = pg.anova(dv=\"Seg_Corr\",between = \"Distance\", data=Sub_Sub_Rels)\n",
    "print(aov)\n",
    "\n",
    "Sub_Sub_Rels = Sub_Rels[Sub_Rels['Familiarity'] == 0]\n",
    "sns.boxenplot(x = 'Distance',y = 'Seg_Corr',width = 1, data = Sub_Sub_Rels)\n",
    "plt.title('When unfamiliar')\n",
    "plt.show()\n",
    "aov = pg.anova(dv=\"Seg_Corr\",between = \"Distance\", data=Sub_Sub_Rels)\n",
    "print(aov)"
   ]
  },
  {
   "cell_type": "markdown",
   "id": "0721098e",
   "metadata": {},
   "source": [
    "There is not a strong relationships between the shape of peoples clapping rates during this final applayse and whether they were sitting side by side or familiar with each other. The suggested deviation of couples contrasting strongly may be due to some kind of outlier effect. "
   ]
  },
  {
   "cell_type": "markdown",
   "id": "4d50f8d4",
   "metadata": {},
   "source": [
    "## Clapping Rates during independent applause\n",
    "look at intervals when everyone was clapping before synchronisation [10,20]s"
   ]
  },
  {
   "cell_type": "code",
   "execution_count": 52,
   "id": "5afd1096",
   "metadata": {},
   "outputs": [
    {
     "data": {
      "text/plain": [
       "<AxesSubplot:>"
      ]
     },
     "execution_count": 52,
     "metadata": {},
     "output_type": "execute_result"
    },
    {
     "data": {
      "image/png": "[encoded data removed]",
      "text/plain": [
       "<Figure size 432x288 with 1 Axes>"
      ]
     },
     "metadata": {
      "needs_background": "light"
     },
     "output_type": "display_data"
    }
   ],
   "source": [
    "# Euclidian distance metric\n",
    "sub_Claps = Clap_Feats.loc[10:20] # 10 seconds during which participants clapped indepnendently\n",
    "A = pd.DataFrame(squareform(pdist(sub_Claps.T)), columns = sub_Claps.columns, index = sub_Claps.columns)\n",
    "A.median().plot()"
   ]
  },
  {
   "cell_type": "code",
   "execution_count": 53,
   "id": "ce67c62a",
   "metadata": {},
   "outputs": [],
   "source": [
    "Sub_Rels['Seg_Dist'] = 0\n",
    "\n",
    "for i,row in Sub_Rels.iterrows():\n",
    "    Sub_Rels.loc[i,'Seg_Dist'] = A[row['Participant_Code_1']][row['Participant_Code_2']]"
   ]
  },
  {
   "cell_type": "code",
   "execution_count": 54,
   "id": "c0f36e9b",
   "metadata": {},
   "outputs": [
    {
     "data": {
      "text/html": [
       "<div>\n",
       "<style scoped>\n",
       "    .dataframe tbody tr th:only-of-type {\n",
       "        vertical-align: middle;\n",
       "    }\n",
       "\n",
       "    .dataframe tbody tr th {\n",
       "        vertical-align: top;\n",
       "    }\n",
       "\n",
       "    .dataframe thead th {\n",
       "        text-align: right;\n",
       "    }\n",
       "</style>\n",
       "<table border=\"1\" class=\"dataframe\">\n",
       "  <thead>\n",
       "    <tr style=\"text-align: right;\">\n",
       "      <th></th>\n",
       "      <th>Source</th>\n",
       "      <th>SS</th>\n",
       "      <th>DF</th>\n",
       "      <th>MS</th>\n",
       "      <th>F</th>\n",
       "      <th>p-unc</th>\n",
       "      <th>np2</th>\n",
       "    </tr>\n",
       "  </thead>\n",
       "  <tbody>\n",
       "    <tr>\n",
       "      <th>0</th>\n",
       "      <td>Distance</td>\n",
       "      <td>0.802100</td>\n",
       "      <td>2.0</td>\n",
       "      <td>0.401050</td>\n",
       "      <td>0.967224</td>\n",
       "      <td>0.381086</td>\n",
       "      <td>0.005146</td>\n",
       "    </tr>\n",
       "    <tr>\n",
       "      <th>1</th>\n",
       "      <td>Familiarity</td>\n",
       "      <td>0.098245</td>\n",
       "      <td>1.0</td>\n",
       "      <td>0.098245</td>\n",
       "      <td>0.236940</td>\n",
       "      <td>0.626710</td>\n",
       "      <td>0.000633</td>\n",
       "    </tr>\n",
       "    <tr>\n",
       "      <th>2</th>\n",
       "      <td>Distance * Familiarity</td>\n",
       "      <td>0.239196</td>\n",
       "      <td>2.0</td>\n",
       "      <td>0.119598</td>\n",
       "      <td>0.288438</td>\n",
       "      <td>0.749600</td>\n",
       "      <td>0.001540</td>\n",
       "    </tr>\n",
       "    <tr>\n",
       "      <th>3</th>\n",
       "      <td>Residual</td>\n",
       "      <td>155.075475</td>\n",
       "      <td>374.0</td>\n",
       "      <td>0.414640</td>\n",
       "      <td>NaN</td>\n",
       "      <td>NaN</td>\n",
       "      <td>NaN</td>\n",
       "    </tr>\n",
       "  </tbody>\n",
       "</table>\n",
       "</div>"
      ],
      "text/plain": [
       "                   Source          SS     DF        MS         F     p-unc  \\\n",
       "0                Distance    0.802100    2.0  0.401050  0.967224  0.381086   \n",
       "1             Familiarity    0.098245    1.0  0.098245  0.236940  0.626710   \n",
       "2  Distance * Familiarity    0.239196    2.0  0.119598  0.288438  0.749600   \n",
       "3                Residual  155.075475  374.0  0.414640       NaN       NaN   \n",
       "\n",
       "        np2  \n",
       "0  0.005146  \n",
       "1  0.000633  \n",
       "2  0.001540  \n",
       "3       NaN  "
      ]
     },
     "execution_count": 54,
     "metadata": {},
     "output_type": "execute_result"
    }
   ],
   "source": [
    "pg.anova(dv=\"Seg_Dist\",between = [\"Distance\",\"Familiarity\"], data=Sub_Rels)"
   ]
  },
  {
   "cell_type": "code",
   "execution_count": 57,
   "id": "1396ef7f",
   "metadata": {
    "scrolled": true
   },
   "outputs": [
    {
     "data": {
      "image/png": "[encoded data removed]",
      "text/plain": [
       "<Figure size 432x288 with 1 Axes>"
      ]
     },
     "metadata": {
      "needs_background": "light"
     },
     "output_type": "display_data"
    },
    {
     "name": "stdout",
     "output_type": "stream",
     "text": [
      "         Source  ddof1  ddof2         F   p-unc       np2\n",
      "0  Relationship      3     31  0.989414  0.4106  0.087383\n"
     ]
    },
    {
     "data": {
      "image/png": "[encoded data removed]",
      "text/plain": [
       "<Figure size 432x288 with 1 Axes>"
      ]
     },
     "metadata": {
      "needs_background": "light"
     },
     "output_type": "display_data"
    },
    {
     "name": "stdout",
     "output_type": "stream",
     "text": [
      "     Source  ddof1  ddof2         F     p-unc       np2\n",
      "0  Distance      2     46  0.736932  0.484144  0.031046\n"
     ]
    },
    {
     "data": {
      "image/png": "[encoded data removed]",
      "text/plain": [
       "<Figure size 432x288 with 1 Axes>"
      ]
     },
     "metadata": {
      "needs_background": "light"
     },
     "output_type": "display_data"
    },
    {
     "name": "stdout",
     "output_type": "stream",
     "text": [
      "     Source  ddof1  ddof2         F     p-unc       np2\n",
      "0  Distance      2    328  0.523373  0.593012  0.003181\n"
     ]
    }
   ],
   "source": [
    "Sub_Sub_Rels = Sub_Rels[Sub_Rels['Distance'] == 1.0]\n",
    "sns.boxenplot(x = \"Relationship\",y = 'Seg_Dist',width = 1, data = Sub_Sub_Rels)\n",
    "plt.title('Adjacently seated')\n",
    "plt.show()\n",
    "aov = pg.anova(dv=\"Seg_Dist\",between = \"Relationship\", data=Sub_Sub_Rels)\n",
    "print(aov)\n",
    "\n",
    "Sub_Sub_Rels = Sub_Rels[Sub_Rels[\"Familiarity\"] == 1]\n",
    "sns.boxenplot(x = 'Distance',y = 'Seg_Dist',width = 1, data = Sub_Sub_Rels)\n",
    "plt.title('When Known to each other')\n",
    "plt.show()\n",
    "aov = pg.anova(dv=\"Seg_Dist\",between = \"Distance\", data=Sub_Sub_Rels)\n",
    "print(aov)\n",
    "\n",
    "Sub_Sub_Rels = Sub_Rels[Sub_Rels['Familiarity'] == 0]\n",
    "sns.boxenplot(x = 'Distance',y = 'Seg_Dist',width = 1, data = Sub_Sub_Rels)\n",
    "plt.title('When unfamiliar')\n",
    "plt.show()\n",
    "aov = pg.anova(dv=\"Seg_Dist\",between = \"Distance\", data=Sub_Sub_Rels)\n",
    "print(aov)"
   ]
  },
  {
   "cell_type": "markdown",
   "id": "cc8c82c4",
   "metadata": {},
   "source": [
    "## Clapping Rates during transition to Sychronised applause\n",
    "look at intervals when everyone was clapping before synchronisation [30,40]s"
   ]
  },
  {
   "cell_type": "code",
   "execution_count": 81,
   "id": "db9e18f5",
   "metadata": {},
   "outputs": [
    {
     "data": {
      "text/plain": [
       "<AxesSubplot:>"
      ]
     },
     "execution_count": 81,
     "metadata": {},
     "output_type": "execute_result"
    },
    {
     "data": {
      "image/png": "[encoded data removed]",
      "text/plain": [
       "<Figure size 432x288 with 1 Axes>"
      ]
     },
     "metadata": {
      "needs_background": "light"
     },
     "output_type": "display_data"
    }
   ],
   "source": [
    "# Euclidian distance metric\n",
    "sub_Claps = Clap_Feats.loc[20:30] # 10 seconds during which participants clapped indepnendently\n",
    "A = pd.DataFrame(squareform(pdist(sub_Claps.T)), columns = sub_Claps.columns, index = sub_Claps.columns)\n",
    "A.median().plot()"
   ]
  },
  {
   "cell_type": "code",
   "execution_count": 82,
   "id": "529a5b1c",
   "metadata": {},
   "outputs": [],
   "source": [
    "Sub_Rels['Seg_Dist'] = 0\n",
    "\n",
    "for i,row in Sub_Rels.iterrows():\n",
    "    Sub_Rels.loc[i,'Seg_Dist'] = A[row['Participant_Code_1']][row['Participant_Code_2']]"
   ]
  },
  {
   "cell_type": "code",
   "execution_count": 83,
   "id": "22d88c0b",
   "metadata": {},
   "outputs": [
    {
     "data": {
      "text/html": [
       "<div>\n",
       "<style scoped>\n",
       "    .dataframe tbody tr th:only-of-type {\n",
       "        vertical-align: middle;\n",
       "    }\n",
       "\n",
       "    .dataframe tbody tr th {\n",
       "        vertical-align: top;\n",
       "    }\n",
       "\n",
       "    .dataframe thead th {\n",
       "        text-align: right;\n",
       "    }\n",
       "</style>\n",
       "<table border=\"1\" class=\"dataframe\">\n",
       "  <thead>\n",
       "    <tr style=\"text-align: right;\">\n",
       "      <th></th>\n",
       "      <th>Source</th>\n",
       "      <th>SS</th>\n",
       "      <th>DF</th>\n",
       "      <th>MS</th>\n",
       "      <th>F</th>\n",
       "      <th>p-unc</th>\n",
       "      <th>np2</th>\n",
       "    </tr>\n",
       "  </thead>\n",
       "  <tbody>\n",
       "    <tr>\n",
       "      <th>0</th>\n",
       "      <td>Distance</td>\n",
       "      <td>1.181529</td>\n",
       "      <td>2.0</td>\n",
       "      <td>0.590765</td>\n",
       "      <td>0.758787</td>\n",
       "      <td>0.468954</td>\n",
       "      <td>0.004041</td>\n",
       "    </tr>\n",
       "    <tr>\n",
       "      <th>1</th>\n",
       "      <td>Familiarity</td>\n",
       "      <td>0.679256</td>\n",
       "      <td>1.0</td>\n",
       "      <td>0.679256</td>\n",
       "      <td>0.872446</td>\n",
       "      <td>0.350882</td>\n",
       "      <td>0.002327</td>\n",
       "    </tr>\n",
       "    <tr>\n",
       "      <th>2</th>\n",
       "      <td>Distance * Familiarity</td>\n",
       "      <td>0.814331</td>\n",
       "      <td>2.0</td>\n",
       "      <td>0.407166</td>\n",
       "      <td>0.522970</td>\n",
       "      <td>0.593191</td>\n",
       "      <td>0.002789</td>\n",
       "    </tr>\n",
       "    <tr>\n",
       "      <th>3</th>\n",
       "      <td>Residual</td>\n",
       "      <td>291.183141</td>\n",
       "      <td>374.0</td>\n",
       "      <td>0.778565</td>\n",
       "      <td>NaN</td>\n",
       "      <td>NaN</td>\n",
       "      <td>NaN</td>\n",
       "    </tr>\n",
       "  </tbody>\n",
       "</table>\n",
       "</div>"
      ],
      "text/plain": [
       "                   Source          SS     DF        MS         F     p-unc  \\\n",
       "0                Distance    1.181529    2.0  0.590765  0.758787  0.468954   \n",
       "1             Familiarity    0.679256    1.0  0.679256  0.872446  0.350882   \n",
       "2  Distance * Familiarity    0.814331    2.0  0.407166  0.522970  0.593191   \n",
       "3                Residual  291.183141  374.0  0.778565       NaN       NaN   \n",
       "\n",
       "        np2  \n",
       "0  0.004041  \n",
       "1  0.002327  \n",
       "2  0.002789  \n",
       "3       NaN  "
      ]
     },
     "execution_count": 83,
     "metadata": {},
     "output_type": "execute_result"
    }
   ],
   "source": [
    "pg.anova(dv=\"Seg_Dist\",between = [\"Distance\",\"Familiarity\"], data=Sub_Rels)"
   ]
  },
  {
   "cell_type": "code",
   "execution_count": 84,
   "id": "a4a3d614",
   "metadata": {},
   "outputs": [
    {
     "data": {
      "image/png": "[encoded data removed]",
      "text/plain": [
       "<Figure size 432x288 with 1 Axes>"
      ]
     },
     "metadata": {
      "needs_background": "light"
     },
     "output_type": "display_data"
    },
    {
     "name": "stdout",
     "output_type": "stream",
     "text": [
      "         Source  ddof1  ddof2         F     p-unc       np2\n",
      "0  Relationship      3     31  0.542729  0.656668  0.049901\n"
     ]
    },
    {
     "data": {
      "image/png": "[encoded data removed]",
      "text/plain": [
       "<Figure size 432x288 with 1 Axes>"
      ]
     },
     "metadata": {
      "needs_background": "light"
     },
     "output_type": "display_data"
    },
    {
     "name": "stdout",
     "output_type": "stream",
     "text": [
      "     Source  ddof1  ddof2         F    p-unc       np2\n",
      "0  Distance      2     46  0.314862  0.73145  0.013505\n"
     ]
    },
    {
     "data": {
      "image/png": "[encoded data removed]",
      "text/plain": [
       "<Figure size 432x288 with 1 Axes>"
      ]
     },
     "metadata": {
      "needs_background": "light"
     },
     "output_type": "display_data"
    },
    {
     "name": "stdout",
     "output_type": "stream",
     "text": [
      "     Source  ddof1  ddof2         F     p-unc       np2\n",
      "0  Distance      2    328  0.969263  0.380446  0.005875\n"
     ]
    }
   ],
   "source": [
    "Sub_Sub_Rels = Sub_Rels[Sub_Rels['Distance'] == 1.0]\n",
    "sns.boxenplot(x = \"Relationship\",y = 'Seg_Dist',width = 1, data = Sub_Sub_Rels)\n",
    "plt.title('Adjacently seated')\n",
    "plt.show()\n",
    "aov = pg.anova(dv=\"Seg_Dist\",between = \"Relationship\", data=Sub_Sub_Rels)\n",
    "print(aov)\n",
    "\n",
    "Sub_Sub_Rels = Sub_Rels[Sub_Rels[\"Familiarity\"] == 1]\n",
    "sns.boxenplot(x = 'Distance',y = 'Seg_Dist',width = 1, data = Sub_Sub_Rels)\n",
    "plt.title('When Known to each other')\n",
    "plt.show()\n",
    "aov = pg.anova(dv=\"Seg_Dist\",between = \"Distance\", data=Sub_Sub_Rels)\n",
    "print(aov)\n",
    "\n",
    "Sub_Sub_Rels = Sub_Rels[Sub_Rels['Familiarity'] == 0]\n",
    "sns.boxenplot(x = 'Distance',y = 'Seg_Dist',width = 1, data = Sub_Sub_Rels)\n",
    "plt.title('When unfamiliar')\n",
    "plt.show()\n",
    "aov = pg.anova(dv=\"Seg_Dist\",between = \"Distance\", data=Sub_Sub_Rels)\n",
    "print(aov)"
   ]
  },
  {
   "cell_type": "markdown",
   "id": "b56ea88a",
   "metadata": {},
   "source": [
    "# looking at larger distances between pairs"
   ]
  },
  {
   "cell_type": "code",
   "execution_count": 62,
   "id": "a1ae5794",
   "metadata": {},
   "outputs": [
    {
     "data": {
      "text/plain": [
       "4095"
      ]
     },
     "execution_count": 62,
     "metadata": {},
     "output_type": "execute_result"
    }
   ],
   "source": [
    "# collect all pairwise distances, modefied from nearby\n",
    "nearby = []\n",
    "for i,a in partDets.iterrows():\n",
    "    A = ((partDets.loc[i+1:,'X'] - a['X']).pow(2)+(partDets.loc[i+1:,'Y'] - a['Y']).pow(2)).pow(0.5)\n",
    "    if len(A)>0:\n",
    "        neighs = partDets.loc[A.index].index\n",
    "        Dist = A\n",
    "        for j in range(len(neighs)):\n",
    "            c = neighs[j]\n",
    "            nearby.append([partDets.loc[i].Participant_Code,partDets.loc[c].Participant_Code,Dist.iloc[j]])\n",
    "len(nearby)    "
   ]
  },
  {
   "cell_type": "code",
   "execution_count": 63,
   "id": "353ebda9",
   "metadata": {},
   "outputs": [
    {
     "name": "stdout",
     "output_type": "stream",
     "text": [
      "86\n"
     ]
    }
   ],
   "source": [
    "# file not currently public\n",
    "rel_folder = general_loc + 'Concert_MusicLab/Participant_details/'\n",
    "Rels = pd.read_csv(rel_folder + 'Pairwise_Relationship_Hall.csv') \n",
    "print(len(Rels))"
   ]
  },
  {
   "cell_type": "code",
   "execution_count": 64,
   "id": "41c9c746",
   "metadata": {},
   "outputs": [
    {
     "data": {
      "text/html": [
       "<div>\n",
       "<style scoped>\n",
       "    .dataframe tbody tr th:only-of-type {\n",
       "        vertical-align: middle;\n",
       "    }\n",
       "\n",
       "    .dataframe tbody tr th {\n",
       "        vertical-align: top;\n",
       "    }\n",
       "\n",
       "    .dataframe thead th {\n",
       "        text-align: right;\n",
       "    }\n",
       "</style>\n",
       "<table border=\"1\" class=\"dataframe\">\n",
       "  <thead>\n",
       "    <tr style=\"text-align: right;\">\n",
       "      <th></th>\n",
       "      <th>Participant_Code_1</th>\n",
       "      <th>Participant_Code_2</th>\n",
       "      <th>Distance</th>\n",
       "      <th>Familiarity</th>\n",
       "      <th>Relationship</th>\n",
       "    </tr>\n",
       "  </thead>\n",
       "  <tbody>\n",
       "    <tr>\n",
       "      <th>0</th>\n",
       "      <td>ADQ001</td>\n",
       "      <td>ADQ002</td>\n",
       "      <td>6.0</td>\n",
       "      <td>0</td>\n",
       "      <td>Stranger</td>\n",
       "    </tr>\n",
       "    <tr>\n",
       "      <th>1</th>\n",
       "      <td>ADQ001</td>\n",
       "      <td>ADQ003</td>\n",
       "      <td>6.0</td>\n",
       "      <td>0</td>\n",
       "      <td>Stranger</td>\n",
       "    </tr>\n",
       "    <tr>\n",
       "      <th>2</th>\n",
       "      <td>ADQ001</td>\n",
       "      <td>ADQ004</td>\n",
       "      <td>5.0</td>\n",
       "      <td>0</td>\n",
       "      <td>Stranger</td>\n",
       "    </tr>\n",
       "    <tr>\n",
       "      <th>3</th>\n",
       "      <td>ADQ001</td>\n",
       "      <td>ADQ005</td>\n",
       "      <td>6.0</td>\n",
       "      <td>0</td>\n",
       "      <td>Stranger</td>\n",
       "    </tr>\n",
       "    <tr>\n",
       "      <th>4</th>\n",
       "      <td>ADQ001</td>\n",
       "      <td>ADQ006</td>\n",
       "      <td>2.0</td>\n",
       "      <td>0</td>\n",
       "      <td>Stranger</td>\n",
       "    </tr>\n",
       "    <tr>\n",
       "      <th>...</th>\n",
       "      <td>...</td>\n",
       "      <td>...</td>\n",
       "      <td>...</td>\n",
       "      <td>...</td>\n",
       "      <td>...</td>\n",
       "    </tr>\n",
       "    <tr>\n",
       "      <th>4090</th>\n",
       "      <td>AEQ088</td>\n",
       "      <td>AER090</td>\n",
       "      <td>10.0</td>\n",
       "      <td>0</td>\n",
       "      <td>Stranger</td>\n",
       "    </tr>\n",
       "    <tr>\n",
       "      <th>4091</th>\n",
       "      <td>AEQ088</td>\n",
       "      <td>AEU091</td>\n",
       "      <td>12.0</td>\n",
       "      <td>0</td>\n",
       "      <td>Stranger</td>\n",
       "    </tr>\n",
       "    <tr>\n",
       "      <th>4092</th>\n",
       "      <td>AEQ089</td>\n",
       "      <td>AER090</td>\n",
       "      <td>10.0</td>\n",
       "      <td>0</td>\n",
       "      <td>Stranger</td>\n",
       "    </tr>\n",
       "    <tr>\n",
       "      <th>4093</th>\n",
       "      <td>AEQ089</td>\n",
       "      <td>AEU091</td>\n",
       "      <td>9.0</td>\n",
       "      <td>0</td>\n",
       "      <td>Stranger</td>\n",
       "    </tr>\n",
       "    <tr>\n",
       "      <th>4094</th>\n",
       "      <td>AER090</td>\n",
       "      <td>AEU091</td>\n",
       "      <td>4.0</td>\n",
       "      <td>0</td>\n",
       "      <td>Stranger</td>\n",
       "    </tr>\n",
       "  </tbody>\n",
       "</table>\n",
       "<p>4095 rows × 5 columns</p>\n",
       "</div>"
      ],
      "text/plain": [
       "     Participant_Code_1 Participant_Code_2 Distance Familiarity Relationship\n",
       "0                ADQ001             ADQ002      6.0           0     Stranger\n",
       "1                ADQ001             ADQ003      6.0           0     Stranger\n",
       "2                ADQ001             ADQ004      5.0           0     Stranger\n",
       "3                ADQ001             ADQ005      6.0           0     Stranger\n",
       "4                ADQ001             ADQ006      2.0           0     Stranger\n",
       "...                 ...                ...      ...         ...          ...\n",
       "4090             AEQ088             AER090     10.0           0     Stranger\n",
       "4091             AEQ088             AEU091     12.0           0     Stranger\n",
       "4092             AEQ089             AER090     10.0           0     Stranger\n",
       "4093             AEQ089             AEU091      9.0           0     Stranger\n",
       "4094             AER090             AEU091      4.0           0     Stranger\n",
       "\n",
       "[4095 rows x 5 columns]"
      ]
     },
     "execution_count": 64,
     "metadata": {},
     "output_type": "execute_result"
    }
   ],
   "source": [
    "Near_Rels = pd.DataFrame(columns=[\"Participant_Code_1\",\"Participant_Code_2\",\"Distance\",\"Familiarity\",\"Relationship\"])\n",
    "\n",
    "for i in range(len(nearby)):\n",
    "    ns = nearby[i]\n",
    "    Near_Rels.loc[i,\"Participant_Code_1\"] = ns[0]\n",
    "    Near_Rels.loc[i,\"Participant_Code_2\"] = ns[1]\n",
    "\n",
    "\n",
    "    P1 = partDets.loc[partDets['Participant_Code'] == ns[0],:]\n",
    "    P2 = partDets.loc[partDets['Participant_Code'] == ns[1],:]\n",
    "    \n",
    "#     if P2['X'].values-P1['X'].values<0:\n",
    "#         distC = -1 # P1 is behind P2\n",
    "#     else:\n",
    "#         distC = 1\n",
    "    \n",
    "    Near_Rels.loc[i,\"Distance\"] = np.round(ns[2]) # simplify stratification\n",
    "#     if ns[2]>=2: # around\n",
    "#         Near_Rels.loc[i,\"Distance\"] = 3.0\n",
    "#     else:\n",
    "#         if ns[2]>1: # close\n",
    "#             Near_Rels.loc[i,\"Distance\"] =  distC * 2.0\n",
    "#         else: # adjacent\n",
    "#             Near_Rels.loc[i,\"Distance\"] = 1.0\n",
    "    # check if \n",
    "    A = Rels.loc[Rels['P1']==P1['Temp_Codes'].values[0]]\n",
    "    if len(A)<1: \n",
    "        A = Rels.loc[Rels['P2']==P1['Temp_Codes'].values[0]]\n",
    "        R = A.loc[A['P1']==P2['Temp_Codes'].values[0]]\n",
    "    else:\n",
    "        R = A.loc[A['P2']==P2['Temp_Codes'].values[0]]\n",
    "        if len(R)<1: # check the alternate order, just in case\n",
    "            A = Rels.loc[Rels['P2']==P1['Temp_Codes'].values[0]]\n",
    "            R = A.loc[A['P1']==P2['Temp_Codes'].values[0]]\n",
    "\n",
    "    if len(R)>0: # these two knew each other\n",
    "        Near_Rels.loc[i,\"Familiarity\"] = 1 \n",
    "        Near_Rels.loc[i,\"Relationship\"] = R.Relationship.values[0]\n",
    "    else:\n",
    "        Near_Rels.loc[i,\"Familiarity\"] = 0 \n",
    "        Near_Rels.loc[i,\"Relationship\"] = 'Stranger'\n",
    "\n",
    "Near_Rels"
   ]
  },
  {
   "cell_type": "code",
   "execution_count": 65,
   "id": "c2d8508a",
   "metadata": {},
   "outputs": [
    {
     "data": {
      "text/plain": [
       "2415"
      ]
     },
     "execution_count": 65,
     "metadata": {},
     "output_type": "execute_result"
    }
   ],
   "source": [
    "# reduce to list of relationships included in the dataset available here\n",
    "Part_Codes = Clap_Feats.columns\n",
    "Sub_Rels = Near_Rels.loc[Near_Rels['Participant_Code_1'].isin(Part_Codes),:]\n",
    "Sub_Rels = Sub_Rels.loc[Sub_Rels['Participant_Code_2'].isin(Part_Codes),:].reset_index(drop = True)\n",
    "len(Sub_Rels)"
   ]
  },
  {
   "cell_type": "code",
   "execution_count": 66,
   "id": "cc27dd74",
   "metadata": {},
   "outputs": [
    {
     "data": {
      "text/plain": [
       "<AxesSubplot:>"
      ]
     },
     "execution_count": 66,
     "metadata": {},
     "output_type": "execute_result"
    },
    {
     "data": {
      "image/png": "[encoded data removed]",
      "text/plain": [
       "<Figure size 432x288 with 1 Axes>"
      ]
     },
     "metadata": {
      "needs_background": "light"
     },
     "output_type": "display_data"
    }
   ],
   "source": [
    "# Euclidian distance metric\n",
    "A = pd.DataFrame(squareform(pdist(Clap_Feats.T)), columns = Clap_Feats.columns, index = Clap_Feats.columns)\n",
    "A.median().plot()"
   ]
  },
  {
   "cell_type": "code",
   "execution_count": 67,
   "id": "9661fa9e",
   "metadata": {},
   "outputs": [],
   "source": [
    "Sub_Rels['Seg_Dist'] = 0\n",
    "\n",
    "for i,row in Sub_Rels.iterrows():\n",
    "    Sub_Rels.loc[i,'Seg_Dist'] = A[row['Participant_Code_1']][row['Participant_Code_2']]"
   ]
  },
  {
   "cell_type": "code",
   "execution_count": 68,
   "id": "11972096",
   "metadata": {},
   "outputs": [
    {
     "name": "stderr",
     "output_type": "stream",
     "text": [
      "C:\\Users\\finnu\\Anaconda3\\lib\\site-packages\\statsmodels\\base\\model.py:1832: ValueWarning: covariance of constraints does not have full rank. The number of constraints is 14, but rank is 4\n",
      "  warnings.warn('covariance of constraints does not have full '\n"
     ]
    },
    {
     "data": {
      "text/html": [
       "<div>\n",
       "<style scoped>\n",
       "    .dataframe tbody tr th:only-of-type {\n",
       "        vertical-align: middle;\n",
       "    }\n",
       "\n",
       "    .dataframe tbody tr th {\n",
       "        vertical-align: top;\n",
       "    }\n",
       "\n",
       "    .dataframe thead th {\n",
       "        text-align: right;\n",
       "    }\n",
       "</style>\n",
       "<table border=\"1\" class=\"dataframe\">\n",
       "  <thead>\n",
       "    <tr style=\"text-align: right;\">\n",
       "      <th></th>\n",
       "      <th>Source</th>\n",
       "      <th>SS</th>\n",
       "      <th>DF</th>\n",
       "      <th>MS</th>\n",
       "      <th>F</th>\n",
       "      <th>p-unc</th>\n",
       "      <th>np2</th>\n",
       "    </tr>\n",
       "  </thead>\n",
       "  <tbody>\n",
       "    <tr>\n",
       "      <th>0</th>\n",
       "      <td>Distance</td>\n",
       "      <td>4085.153608</td>\n",
       "      <td>14.0</td>\n",
       "      <td>291.796686</td>\n",
       "      <td>54.659415</td>\n",
       "      <td>3.726452e-44</td>\n",
       "      <td>0.242068</td>\n",
       "    </tr>\n",
       "    <tr>\n",
       "      <th>1</th>\n",
       "      <td>Familiarity</td>\n",
       "      <td>740.309395</td>\n",
       "      <td>1.0</td>\n",
       "      <td>740.309395</td>\n",
       "      <td>138.674906</td>\n",
       "      <td>3.684409e-31</td>\n",
       "      <td>0.054711</td>\n",
       "    </tr>\n",
       "    <tr>\n",
       "      <th>2</th>\n",
       "      <td>Distance * Familiarity</td>\n",
       "      <td>500.281014</td>\n",
       "      <td>14.0</td>\n",
       "      <td>35.734358</td>\n",
       "      <td>6.693767</td>\n",
       "      <td>1.483508e-13</td>\n",
       "      <td>0.037640</td>\n",
       "    </tr>\n",
       "    <tr>\n",
       "      <th>3</th>\n",
       "      <td>Residual</td>\n",
       "      <td>12790.932089</td>\n",
       "      <td>2396.0</td>\n",
       "      <td>5.338452</td>\n",
       "      <td>NaN</td>\n",
       "      <td>NaN</td>\n",
       "      <td>NaN</td>\n",
       "    </tr>\n",
       "  </tbody>\n",
       "</table>\n",
       "</div>"
      ],
      "text/plain": [
       "                   Source            SS      DF          MS           F  \\\n",
       "0                Distance   4085.153608    14.0  291.796686   54.659415   \n",
       "1             Familiarity    740.309395     1.0  740.309395  138.674906   \n",
       "2  Distance * Familiarity    500.281014    14.0   35.734358    6.693767   \n",
       "3                Residual  12790.932089  2396.0    5.338452         NaN   \n",
       "\n",
       "          p-unc       np2  \n",
       "0  3.726452e-44  0.242068  \n",
       "1  3.684409e-31  0.054711  \n",
       "2  1.483508e-13  0.037640  \n",
       "3           NaN       NaN  "
      ]
     },
     "execution_count": 68,
     "metadata": {},
     "output_type": "execute_result"
    }
   ],
   "source": [
    "pg.anova(dv=\"Seg_Dist\",between = [\"Distance\",\"Familiarity\"], data=Sub_Rels)"
   ]
  },
  {
   "cell_type": "code",
   "execution_count": 69,
   "id": "90618168",
   "metadata": {},
   "outputs": [
    {
     "data": {
      "image/png": "[encoded data removed]",
      "text/plain": [
       "<Figure size 432x288 with 1 Axes>"
      ]
     },
     "metadata": {
      "needs_background": "light"
     },
     "output_type": "display_data"
    },
    {
     "name": "stdout",
     "output_type": "stream",
     "text": [
      "        Source  ddof1  ddof2         F     p-unc       np2\n",
      "0  Familiarity      1   2413  2.280599  0.131132  0.000944\n"
     ]
    },
    {
     "data": {
      "image/png": "[encoded data removed]",
      "text/plain": [
       "<Figure size 432x288 with 1 Axes>"
      ]
     },
     "metadata": {
      "needs_background": "light"
     },
     "output_type": "display_data"
    },
    {
     "name": "stdout",
     "output_type": "stream",
     "text": [
      "     Source  ddof1  ddof2         F     p-unc       np2\n",
      "0  Distance      3     46  3.219506  0.031208  0.173532\n"
     ]
    },
    {
     "data": {
      "image/png": "[encoded data removed]",
      "text/plain": [
       "<Figure size 432x288 with 1 Axes>"
      ]
     },
     "metadata": {
      "needs_background": "light"
     },
     "output_type": "display_data"
    },
    {
     "name": "stdout",
     "output_type": "stream",
     "text": [
      "     Source  ddof1  ddof2         F     p-unc       np2\n",
      "0  Distance     14   2350  1.221333  0.251929  0.007223\n"
     ]
    }
   ],
   "source": [
    "#sns.set_style(\"darkgrid\", {\"grid.color\": \".6\", \"grid.linestyle\": \":\"})\n",
    "#sns.set_theme(style=\"whitegrid\")\n",
    "Sub_Sub_Rels = Sub_Rels[Sub_Rels['Distance'] == 1.0]\n",
    "sns.boxenplot(x = 'Familiarity',y = 'Seg_Dist', data = Sub_Sub_Rels)\n",
    "plt.title('Social connection on Adjacent')\n",
    "# plt.savefig('plots/PairCorr_allEvents_Familiarity.png',dpi = 400)\n",
    "plt.show()\n",
    "aov = pg.anova(dv=\"Seg_Dist\",between = \"Familiarity\", data=Sub_Rels)\n",
    "print(aov)\n",
    "\n",
    "Sub_Sub_Rels = Sub_Rels[Sub_Rels['Familiarity'] == 1.0]\n",
    "sns.boxenplot(x = 'Distance',y = 'Seg_Dist', data = Sub_Sub_Rels)\n",
    "plt.title('Proximity on Familiar')\n",
    "# plt.savefig('plots/PairCorr_allEvents_Proximity.png',dpi = 400)\n",
    "plt.show()\n",
    "aov = pg.anova(dv=\"Seg_Dist\",between = \"Distance\", data=Sub_Sub_Rels)\n",
    "print(aov)\n",
    "\n",
    "Sub_Sub_Rels = Sub_Rels[Sub_Rels['Familiarity'] == 0.0]\n",
    "sns.boxenplot(x = 'Distance',y = 'Seg_Dist', data = Sub_Sub_Rels)\n",
    "plt.title('Proximity on UnFamiliar')\n",
    "# plt.savefig('plots/PairCorr_allEvents_Proximity.png',dpi = 400)\n",
    "plt.show()\n",
    "aov = pg.anova(dv=\"Seg_Dist\",between = \"Distance\", data=Sub_Sub_Rels)\n",
    "print(aov)\n"
   ]
  },
  {
   "cell_type": "code",
   "execution_count": 71,
   "id": "f97e74ae",
   "metadata": {},
   "outputs": [
    {
     "data": {
      "text/plain": [
       "<AxesSubplot:>"
      ]
     },
     "execution_count": 71,
     "metadata": {},
     "output_type": "execute_result"
    },
    {
     "data": {
      "image/png": "[encoded data removed]",
      "text/plain": [
       "<Figure size 432x288 with 1 Axes>"
      ]
     },
     "metadata": {
      "needs_background": "light"
     },
     "output_type": "display_data"
    }
   ],
   "source": [
    "A = Clap_Feats.corr(method = 'spearman')\n",
    "A.median().plot()"
   ]
  },
  {
   "cell_type": "code",
   "execution_count": 72,
   "id": "b7884ddc",
   "metadata": {},
   "outputs": [],
   "source": [
    "# build a data frame with pairwise spearman correlations as a dependent variable\n",
    "Sub_Rels['Seg_Corr'] = 0\n",
    "\n",
    "for i,row in Sub_Rels.iterrows():\n",
    "    Sub_Rels.loc[i,'Seg_Corr'] = A[row['Participant_Code_1']][row['Participant_Code_2']]"
   ]
  },
  {
   "cell_type": "raw",
   "id": "f63dc556",
   "metadata": {},
   "source": [
    "#sns.set_style(\"darkgrid\", {\"grid.color\": \".6\", \"grid.linestyle\": \":\"})\n",
    "#sns.set_theme(style=\"whitegrid\")\n",
    "Sub_Sub_Rels = Sub_Rels[Sub_Rels['Distance'] == 1.0]\n",
    "sns.boxenplot(x = 'Familiarity',y = 'Seg_Corr', data = Sub_Sub_Rels)\n",
    "plt.title('Social connection on Adjacent')\n",
    "# plt.savefig('plots/PairCorr_allEvents_Familiarity.png',dpi = 400)\n",
    "plt.show()\n",
    "aov = pg.anova(dv=\"Seg_Corr\",between = \"Familiarity\", data=Sub_Rels)\n",
    "print(aov)\n",
    "\n",
    "Sub_Sub_Rels = Sub_Rels[Sub_Rels['Familiarity'] == 1.0]\n",
    "sns.boxenplot(x = 'Distance',y = 'Seg_Corr', data = Sub_Sub_Rels)\n",
    "plt.title('Proximity on Familiar')\n",
    "# plt.savefig('plots/PairCorr_allEvents_Proximity.png',dpi = 400)\n",
    "plt.show()\n",
    "aov = pg.anova(dv=\"Seg_Corr\",between = \"Distance\", data=Sub_Sub_Rels)\n",
    "print(aov)\n",
    "\n",
    "Sub_Sub_Rels = Sub_Rels[Sub_Rels['Familiarity'] == 0.0]\n",
    "sns.boxenplot(x = 'Distance',y = 'Seg_Corr', data = Sub_Sub_Rels)\n",
    "plt.title('Proximity on UnFamiliar')\n",
    "# plt.savefig('plots/PairCorr_allEvents_Proximity.png',dpi = 400)\n",
    "plt.show()\n",
    "aov = pg.anova(dv=\"Seg_Corr\",between = \"Distance\", data=Sub_Sub_Rels)\n",
    "print(aov)\n"
   ]
  },
  {
   "cell_type": "code",
   "execution_count": 74,
   "id": "51872861",
   "metadata": {},
   "outputs": [
    {
     "data": {
      "text/html": [
       "<div>\n",
       "<style scoped>\n",
       "    .dataframe tbody tr th:only-of-type {\n",
       "        vertical-align: middle;\n",
       "    }\n",
       "\n",
       "    .dataframe tbody tr th {\n",
       "        vertical-align: top;\n",
       "    }\n",
       "\n",
       "    .dataframe thead th {\n",
       "        text-align: right;\n",
       "    }\n",
       "</style>\n",
       "<table border=\"1\" class=\"dataframe\">\n",
       "  <thead>\n",
       "    <tr style=\"text-align: right;\">\n",
       "      <th></th>\n",
       "      <th>Participant_Code_1</th>\n",
       "      <th>Participant_Code_2</th>\n",
       "      <th>Distance</th>\n",
       "      <th>Familiarity</th>\n",
       "      <th>Relationship</th>\n",
       "      <th>Seg_Dist</th>\n",
       "      <th>Seg_Corr</th>\n",
       "    </tr>\n",
       "  </thead>\n",
       "  <tbody>\n",
       "    <tr>\n",
       "      <th>0</th>\n",
       "      <td>ADQ001</td>\n",
       "      <td>ADQ002</td>\n",
       "      <td>6.0</td>\n",
       "      <td>0</td>\n",
       "      <td>Stranger</td>\n",
       "      <td>8.327298</td>\n",
       "      <td>0.147928</td>\n",
       "    </tr>\n",
       "    <tr>\n",
       "      <th>1</th>\n",
       "      <td>ADQ001</td>\n",
       "      <td>ADQ003</td>\n",
       "      <td>6.0</td>\n",
       "      <td>0</td>\n",
       "      <td>Stranger</td>\n",
       "      <td>8.957823</td>\n",
       "      <td>0.252337</td>\n",
       "    </tr>\n",
       "    <tr>\n",
       "      <th>2</th>\n",
       "      <td>ADQ001</td>\n",
       "      <td>ADQ004</td>\n",
       "      <td>5.0</td>\n",
       "      <td>0</td>\n",
       "      <td>Stranger</td>\n",
       "      <td>9.589442</td>\n",
       "      <td>0.363053</td>\n",
       "    </tr>\n",
       "    <tr>\n",
       "      <th>3</th>\n",
       "      <td>ADQ001</td>\n",
       "      <td>ADQ005</td>\n",
       "      <td>6.0</td>\n",
       "      <td>0</td>\n",
       "      <td>Stranger</td>\n",
       "      <td>8.960915</td>\n",
       "      <td>0.394702</td>\n",
       "    </tr>\n",
       "    <tr>\n",
       "      <th>4</th>\n",
       "      <td>ADQ001</td>\n",
       "      <td>ADQ006</td>\n",
       "      <td>2.0</td>\n",
       "      <td>0</td>\n",
       "      <td>Stranger</td>\n",
       "      <td>7.961313</td>\n",
       "      <td>0.153698</td>\n",
       "    </tr>\n",
       "    <tr>\n",
       "      <th>...</th>\n",
       "      <td>...</td>\n",
       "      <td>...</td>\n",
       "      <td>...</td>\n",
       "      <td>...</td>\n",
       "      <td>...</td>\n",
       "      <td>...</td>\n",
       "      <td>...</td>\n",
       "    </tr>\n",
       "    <tr>\n",
       "      <th>2410</th>\n",
       "      <td>AEQ087</td>\n",
       "      <td>AEQ089</td>\n",
       "      <td>8.0</td>\n",
       "      <td>0</td>\n",
       "      <td>Stranger</td>\n",
       "      <td>7.845801</td>\n",
       "      <td>0.337797</td>\n",
       "    </tr>\n",
       "    <tr>\n",
       "      <th>2411</th>\n",
       "      <td>AEQ087</td>\n",
       "      <td>AER090</td>\n",
       "      <td>2.0</td>\n",
       "      <td>0</td>\n",
       "      <td>Stranger</td>\n",
       "      <td>5.566965</td>\n",
       "      <td>0.116322</td>\n",
       "    </tr>\n",
       "    <tr>\n",
       "      <th>2412</th>\n",
       "      <td>AEQ088</td>\n",
       "      <td>AEQ089</td>\n",
       "      <td>6.0</td>\n",
       "      <td>0</td>\n",
       "      <td>Stranger</td>\n",
       "      <td>7.573797</td>\n",
       "      <td>0.067183</td>\n",
       "    </tr>\n",
       "    <tr>\n",
       "      <th>2413</th>\n",
       "      <td>AEQ088</td>\n",
       "      <td>AER090</td>\n",
       "      <td>10.0</td>\n",
       "      <td>0</td>\n",
       "      <td>Stranger</td>\n",
       "      <td>4.845606</td>\n",
       "      <td>0.545691</td>\n",
       "    </tr>\n",
       "    <tr>\n",
       "      <th>2414</th>\n",
       "      <td>AEQ089</td>\n",
       "      <td>AER090</td>\n",
       "      <td>10.0</td>\n",
       "      <td>0</td>\n",
       "      <td>Stranger</td>\n",
       "      <td>8.786666</td>\n",
       "      <td>0.173500</td>\n",
       "    </tr>\n",
       "  </tbody>\n",
       "</table>\n",
       "<p>2365 rows × 7 columns</p>\n",
       "</div>"
      ],
      "text/plain": [
       "     Participant_Code_1 Participant_Code_2 Distance Familiarity Relationship  \\\n",
       "0                ADQ001             ADQ002      6.0           0     Stranger   \n",
       "1                ADQ001             ADQ003      6.0           0     Stranger   \n",
       "2                ADQ001             ADQ004      5.0           0     Stranger   \n",
       "3                ADQ001             ADQ005      6.0           0     Stranger   \n",
       "4                ADQ001             ADQ006      2.0           0     Stranger   \n",
       "...                 ...                ...      ...         ...          ...   \n",
       "2410             AEQ087             AEQ089      8.0           0     Stranger   \n",
       "2411             AEQ087             AER090      2.0           0     Stranger   \n",
       "2412             AEQ088             AEQ089      6.0           0     Stranger   \n",
       "2413             AEQ088             AER090     10.0           0     Stranger   \n",
       "2414             AEQ089             AER090     10.0           0     Stranger   \n",
       "\n",
       "      Seg_Dist  Seg_Corr  \n",
       "0     8.327298  0.147928  \n",
       "1     8.957823  0.252337  \n",
       "2     9.589442  0.363053  \n",
       "3     8.960915  0.394702  \n",
       "4     7.961313  0.153698  \n",
       "...        ...       ...  \n",
       "2410  7.845801  0.337797  \n",
       "2411  5.566965  0.116322  \n",
       "2412  7.573797  0.067183  \n",
       "2413  4.845606  0.545691  \n",
       "2414  8.786666  0.173500  \n",
       "\n",
       "[2365 rows x 7 columns]"
      ]
     },
     "execution_count": 74,
     "metadata": {},
     "output_type": "execute_result"
    }
   ],
   "source": [
    "Sub_Sub_Rels"
   ]
  },
  {
   "cell_type": "code",
   "execution_count": null,
   "id": "c5256962",
   "metadata": {},
   "outputs": [],
   "source": []
  }
 ],
 "metadata": {
  "kernelspec": {
   "display_name": "Python 3 (ipykernel)",
   "language": "python",
   "name": "python3"
  },
  "language_info": {
   "codemirror_mode": {
    "name": "ipython",
    "version": 3
   },
   "file_extension": ".py",
   "mimetype": "text/x-python",
   "name": "python",
   "nbconvert_exporter": "python",
   "pygments_lexer": "ipython3",
   "version": "3.8.8"
  }
 },
 "nbformat": 4,
 "nbformat_minor": 5
}
